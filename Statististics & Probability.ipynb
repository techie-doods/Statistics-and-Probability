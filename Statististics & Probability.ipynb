{
 "cells": [
  {
   "cell_type": "markdown",
   "metadata": {},
   "source": [
    "<center><h1> Statistics & Probability for Data Analysis and Analytics</h1></center>"
   ]
  },
  {
   "cell_type": "markdown",
   "metadata": {},
   "source": [
    "<center><h1>Statistics & Probability</h1></center>"
   ]
  },
  {
   "cell_type": "markdown",
   "metadata": {},
   "source": [
    "<h1>Topics</h1>\n",
    "<ul>\n",
    "<li>Introduction</li>\n",
    "\n",
    "<li>Data</li>\n",
    "\n",
    "<li>Descriptive statistics</li>\n",
    "    \n",
    "<li>Probability</li>\n",
    "\n",
    "<li>Distributions</li>\n",
    "\n",
    "<li>Estimators and estimates</li>\n",
    "\n",
    "<li>Confidence intervals</li>\n",
    "\n",
    "<li>Inferential statistics</li>\n",
    "\n",
    "<li>Hypothesis testing</li>\n",
    "\n",
    "<li>Correlation</li>\n",
    "<li>Regression analysis</li>\n",
    "\n",
    "<li>Dealing with categorical data</li>\n",
    "    \n",
    "<li>Chi square analysis</li>\n",
    "<li>ANOVA analysis</li>\n",
    "\n",
    "</ul>"
   ]
  },
  {
   "cell_type": "markdown",
   "metadata": {},
   "source": [
    "<h1>Introduction</h1>"
   ]
  },
  {
   "cell_type": "markdown",
   "metadata": {},
   "source": [
    "<p><strong>Probability</strong> is the study of random events. Most people have an intuitive\n",
    "understanding of degrees of probability, which is why you can use\n",
    "words like “probably” and “unlikely” without special training, but we\n",
    "will talk about how to make quantitative claims about those degrees.</p></br>\n",
    "\n",
    "<p><strong>Statistics</strong> is the discipline of using data samples to support claims about\n",
    "populations. Most statistical analysis is based on probability, which is\n",
    "why these pieces are usually presented together.</p></br>\n",
    "\n",
    "<p><strong>Computation</strong> is a tool that is well-suited to quantitative analysis, and\n",
    "computers are commonly used to process statistics. Also, computational experiments are useful for exploring concepts in probability and\n",
    "statistics.</p></br>\n",
    "\n",
    "<p><strong>Why Python for statistics?</strong></p>\n",
    "<p>R is a language dedicated to statistics. Python is a general-purpose\n",
    "language with statistics modules. R has more statistical analysis\n",
    "features than Python, and specialized syntaxes. However, when it\n",
    "comes to building complex analysis pipelines that mix statistics with\n",
    "e.g. image analysis, text mining, or control of a physical\n",
    "experiment, the richness of Python is an invaluable asset.</p>"
   ]
  },
  {
   "cell_type": "markdown",
   "metadata": {},
   "source": [
    " <h1>Data</h1>\n",
    "\n",
    "<p></p></br>\n",
    " \n",
    "<li>What is Data? </li>\n",
    "\n",
    "<li>Measuring Data </li>\n",
    "\n",
    "<li>Measurements of Central Tendency </li>\n",
    "\n",
    "<li>Measurements of Dispersion </li>\n",
    "\n",
    "<li>Measurements - Quartiles </li>\n",
    "\n",
    "<li>Bi-variate Data and Covariance </li>\n",
    "\n",
    "<li>Pearson Correlation Coefficient </li>"
   ]
  },
  {
   "cell_type": "markdown",
   "metadata": {},
   "source": [
    "<h1>What is Data?</h1>"
   ]
  },
  {
   "cell_type": "markdown",
   "metadata": {},
   "source": [
    "<p>Data is a collection of facts, such as numbers, words, measurements, observations or just descriptions of things.</p>\n",
    "\n",
    "<p>Data can be <strong>qualitative or quantitative.</strong>\n",
    "\n",
    "<strong>Qualitative or Categorical data</strong> is descriptive information (it describes something)\n",
    " <p></p>\n",
    "<strong>Quantitative data</strong> is numerical information (numbers)</p>\n",
    "\n",
    "<strong>Dicrete data</strong> can be both Qualitative or Quantitative information (Example: Number of students in a class!)</p>\n",
    "<img src=\"https://www.mathsisfun.com/data/images/data-types.svg\"/>\n",
    "<center>Refered from mathsisfun </center>"
   ]
  },
  {
   "cell_type": "markdown",
   "metadata": {},
   "source": [
    "<h2>Different Types of Data</h2>\n",
    "\n",
    "<h3><strong>Categorical data types:</strong></h3>\n",
    "<p><strong>Nominal Data:</strong> Nominal Data are objects which are differentiated by a simple naming system. An important thing to note is that nominal data may also have numbers assigned to them Ex: Descripticve information of products</p>\n",
    "<p><strong>Ordinal Data:</strong> Ordinal Data are items in which their order matters Ex: Ranking system in schools</p>\n",
    "<h3><strong>Numerical data types:</strong></h3>\n",
    "<p><strong>Interval Data:</strong> Similar to ordinal data, interval data is measured along a scale in which each object’s position is equidistant from one another. This unique property allows arithmetic to be applied to them ex:the temperature in degrees Fahrenheit where the difference between 78 degrees and 79 degrees is the same as 45 degrees and 46 degrees.</p>\n",
    "<p><strong>Ratio</strong> Like Interval data, the differences in Ratio data are meaningful. The Ratio data has an added feature which makes the ratios of the objects meaningful as well, and that is that they have a true zero point. Zero represents the absence of a certain property. So when we say something is of zero weight, we mean that thing has an absence of mass. Ex:Weight and Height of person</p>\n",
    "<img src=\"https://miro.medium.com/max/1400/1*MpcJVoVMQimjUiLzi33izA.png\" height='250px' width=\"500px\"/>\n",
    "\n"
   ]
  },
  {
   "cell_type": "markdown",
   "metadata": {},
   "source": [
    "<strong>Importing Datasets using Python(Pandas) to categorize the Qualitative and Quantitative information</strong>\n",
    "<p>Prerequisites Python libraries</p>\n",
    "<li>Pandas</li>\n",
    "<li>Matplolib</li>\n",
    "<li>Seaborn</li>"
   ]
  },
  {
   "cell_type": "code",
   "execution_count": 3,
   "metadata": {},
   "outputs": [],
   "source": [
    "import pandas as pd"
   ]
  },
  {
   "cell_type": "code",
   "execution_count": 7,
   "metadata": {},
   "outputs": [],
   "source": [
    "df=pd.read_csv(\"https://raw.githubusercontent.com/vijaypyml/DataSets/master/apy.csv\",encoding = \"ISO-8859-1\")\n",
    "#To download this data please refer https://github.com/vijaypyml/DataSets/blob/master/apy.csv"
   ]
  },
  {
   "cell_type": "code",
   "execution_count": 6,
   "metadata": {},
   "outputs": [
    {
     "data": {
      "text/html": [
       "<div>\n",
       "<style scoped>\n",
       "    .dataframe tbody tr th:only-of-type {\n",
       "        vertical-align: middle;\n",
       "    }\n",
       "\n",
       "    .dataframe tbody tr th {\n",
       "        vertical-align: top;\n",
       "    }\n",
       "\n",
       "    .dataframe thead th {\n",
       "        text-align: right;\n",
       "    }\n",
       "</style>\n",
       "<table border=\"1\" class=\"dataframe\">\n",
       "  <thead>\n",
       "    <tr style=\"text-align: right;\">\n",
       "      <th></th>\n",
       "      <th>State_Name</th>\n",
       "      <th>District_Name</th>\n",
       "      <th>Crop_Year</th>\n",
       "      <th>Season</th>\n",
       "      <th>Crop</th>\n",
       "      <th>Area</th>\n",
       "      <th>Production</th>\n",
       "    </tr>\n",
       "  </thead>\n",
       "  <tbody>\n",
       "    <tr>\n",
       "      <th>0</th>\n",
       "      <td>Andaman and Nicobar Islands</td>\n",
       "      <td>NICOBARS</td>\n",
       "      <td>2000</td>\n",
       "      <td>Kharif</td>\n",
       "      <td>Arecanut</td>\n",
       "      <td>1254.0</td>\n",
       "      <td>2000</td>\n",
       "    </tr>\n",
       "    <tr>\n",
       "      <th>1</th>\n",
       "      <td>Andaman and Nicobar Islands</td>\n",
       "      <td>NICOBARS</td>\n",
       "      <td>2000</td>\n",
       "      <td>Kharif</td>\n",
       "      <td>Other Kharif pulses</td>\n",
       "      <td>2.0</td>\n",
       "      <td>1</td>\n",
       "    </tr>\n",
       "    <tr>\n",
       "      <th>2</th>\n",
       "      <td>Andaman and Nicobar Islands</td>\n",
       "      <td>NICOBARS</td>\n",
       "      <td>2000</td>\n",
       "      <td>Kharif</td>\n",
       "      <td>Rice</td>\n",
       "      <td>102.0</td>\n",
       "      <td>321</td>\n",
       "    </tr>\n",
       "    <tr>\n",
       "      <th>3</th>\n",
       "      <td>Andaman and Nicobar Islands</td>\n",
       "      <td>NICOBARS</td>\n",
       "      <td>2000</td>\n",
       "      <td>Whole Year</td>\n",
       "      <td>Banana</td>\n",
       "      <td>176.0</td>\n",
       "      <td>641</td>\n",
       "    </tr>\n",
       "    <tr>\n",
       "      <th>4</th>\n",
       "      <td>Andaman and Nicobar Islands</td>\n",
       "      <td>NICOBARS</td>\n",
       "      <td>2000</td>\n",
       "      <td>Whole Year</td>\n",
       "      <td>Cashewnut</td>\n",
       "      <td>720.0</td>\n",
       "      <td>165</td>\n",
       "    </tr>\n",
       "  </tbody>\n",
       "</table>\n",
       "</div>"
      ],
      "text/plain": [
       "                    State_Name District_Name  Crop_Year       Season  \\\n",
       "0  Andaman and Nicobar Islands      NICOBARS       2000  Kharif        \n",
       "1  Andaman and Nicobar Islands      NICOBARS       2000  Kharif        \n",
       "2  Andaman and Nicobar Islands      NICOBARS       2000  Kharif        \n",
       "3  Andaman and Nicobar Islands      NICOBARS       2000  Whole Year    \n",
       "4  Andaman and Nicobar Islands      NICOBARS       2000  Whole Year    \n",
       "\n",
       "                  Crop    Area Production  \n",
       "0             Arecanut  1254.0       2000  \n",
       "1  Other Kharif pulses     2.0          1  \n",
       "2                 Rice   102.0        321  \n",
       "3               Banana   176.0        641  \n",
       "4            Cashewnut   720.0        165  "
      ]
     },
     "execution_count": 6,
     "metadata": {},
     "output_type": "execute_result"
    }
   ],
   "source": [
    "#To see the sample records\n",
    "\n",
    "df.head()"
   ]
  },
  {
   "cell_type": "code",
   "execution_count": 26,
   "metadata": {},
   "outputs": [
    {
     "data": {
      "text/plain": [
       "State_Name        object\n",
       "District_Name     object\n",
       "Crop_Year          int64\n",
       "Season            object\n",
       "Crop              object\n",
       "Area             float64\n",
       "Production        object\n",
       "dtype: object"
      ]
     },
     "execution_count": 26,
     "metadata": {},
     "output_type": "execute_result"
    }
   ],
   "source": [
    "#To identify each column types\n",
    "df.dtypes"
   ]
  },
  {
   "cell_type": "code",
   "execution_count": 30,
   "metadata": {},
   "outputs": [],
   "source": [
    "#converting nominal to numeric\n",
    "df['Production']=pd.to_numeric(df['Production'],errors='coerce')"
   ]
  },
  {
   "cell_type": "code",
   "execution_count": 31,
   "metadata": {},
   "outputs": [
    {
     "data": {
      "text/plain": [
       "State_Name        object\n",
       "District_Name     object\n",
       "Crop_Year          int64\n",
       "Season            object\n",
       "Crop              object\n",
       "Area             float64\n",
       "Production       float64\n",
       "dtype: object"
      ]
     },
     "execution_count": 31,
     "metadata": {},
     "output_type": "execute_result"
    }
   ],
   "source": [
    "df.dtypes"
   ]
  },
  {
   "cell_type": "code",
   "execution_count": 33,
   "metadata": {},
   "outputs": [
    {
     "data": {
      "text/html": [
       "<div>\n",
       "<style scoped>\n",
       "    .dataframe tbody tr th:only-of-type {\n",
       "        vertical-align: middle;\n",
       "    }\n",
       "\n",
       "    .dataframe tbody tr th {\n",
       "        vertical-align: top;\n",
       "    }\n",
       "\n",
       "    .dataframe thead th {\n",
       "        text-align: right;\n",
       "    }\n",
       "</style>\n",
       "<table border=\"1\" class=\"dataframe\">\n",
       "  <thead>\n",
       "    <tr style=\"text-align: right;\">\n",
       "      <th></th>\n",
       "      <th>State_Name</th>\n",
       "      <th>District_Name</th>\n",
       "      <th>Crop_Year</th>\n",
       "      <th>Season</th>\n",
       "      <th>Crop</th>\n",
       "      <th>Area</th>\n",
       "      <th>Production</th>\n",
       "    </tr>\n",
       "  </thead>\n",
       "  <tbody>\n",
       "    <tr>\n",
       "      <th>246086</th>\n",
       "      <td>West Bengal</td>\n",
       "      <td>PURULIA</td>\n",
       "      <td>2014</td>\n",
       "      <td>Summer</td>\n",
       "      <td>Rice</td>\n",
       "      <td>306.0</td>\n",
       "      <td>801.0</td>\n",
       "    </tr>\n",
       "    <tr>\n",
       "      <th>246087</th>\n",
       "      <td>West Bengal</td>\n",
       "      <td>PURULIA</td>\n",
       "      <td>2014</td>\n",
       "      <td>Summer</td>\n",
       "      <td>Sesamum</td>\n",
       "      <td>627.0</td>\n",
       "      <td>463.0</td>\n",
       "    </tr>\n",
       "    <tr>\n",
       "      <th>246088</th>\n",
       "      <td>West Bengal</td>\n",
       "      <td>PURULIA</td>\n",
       "      <td>2014</td>\n",
       "      <td>Whole Year</td>\n",
       "      <td>Sugarcane</td>\n",
       "      <td>324.0</td>\n",
       "      <td>16250.0</td>\n",
       "    </tr>\n",
       "    <tr>\n",
       "      <th>246089</th>\n",
       "      <td>West Bengal</td>\n",
       "      <td>PURULIA</td>\n",
       "      <td>2014</td>\n",
       "      <td>Winter</td>\n",
       "      <td>Rice</td>\n",
       "      <td>279151.0</td>\n",
       "      <td>597899.0</td>\n",
       "    </tr>\n",
       "    <tr>\n",
       "      <th>246090</th>\n",
       "      <td>West Bengal</td>\n",
       "      <td>PURULIA</td>\n",
       "      <td>2014</td>\n",
       "      <td>Winter</td>\n",
       "      <td>Sesamum</td>\n",
       "      <td>175.0</td>\n",
       "      <td>88.0</td>\n",
       "    </tr>\n",
       "  </tbody>\n",
       "</table>\n",
       "</div>"
      ],
      "text/plain": [
       "         State_Name District_Name  Crop_Year       Season       Crop  \\\n",
       "246086  West Bengal       PURULIA       2014  Summer            Rice   \n",
       "246087  West Bengal       PURULIA       2014  Summer         Sesamum   \n",
       "246088  West Bengal       PURULIA       2014  Whole Year   Sugarcane   \n",
       "246089  West Bengal       PURULIA       2014  Winter            Rice   \n",
       "246090  West Bengal       PURULIA       2014  Winter         Sesamum   \n",
       "\n",
       "            Area  Production  \n",
       "246086     306.0       801.0  \n",
       "246087     627.0       463.0  \n",
       "246088     324.0     16250.0  \n",
       "246089  279151.0    597899.0  \n",
       "246090     175.0        88.0  "
      ]
     },
     "execution_count": 33,
     "metadata": {},
     "output_type": "execute_result"
    }
   ],
   "source": [
    "#To show last five records\n",
    "df.tail(5)"
   ]
  },
  {
   "cell_type": "code",
   "execution_count": 50,
   "metadata": {},
   "outputs": [
    {
     "name": "stdout",
     "output_type": "stream",
     "text": [
      "<class 'pandas.core.frame.DataFrame'>\n",
      "RangeIndex: 246091 entries, 0 to 246090\n",
      "Data columns (total 7 columns):\n",
      " #   Column         Non-Null Count   Dtype  \n",
      "---  ------         --------------   -----  \n",
      " 0   State_Name     246091 non-null  object \n",
      " 1   District_Name  246091 non-null  object \n",
      " 2   Crop_Year      246091 non-null  int64  \n",
      " 3   Season         246091 non-null  object \n",
      " 4   Crop           246091 non-null  object \n",
      " 5   Area           246091 non-null  float64\n",
      " 6   Production     242364 non-null  float64\n",
      "dtypes: float64(2), int64(1), object(4)\n",
      "memory usage: 13.1+ MB\n"
     ]
    }
   ],
   "source": [
    "# Details of dataframe\n",
    "df.info()"
   ]
  },
  {
   "cell_type": "markdown",
   "metadata": {},
   "source": [
    "<h1>Measuring Data</h1>\n",
    "<p>A data can be measure by the 7 metric wich has been listed below</p>"
   ]
  },
  {
   "cell_type": "markdown",
   "metadata": {},
   "source": [
    "<table style=\"margin-bottom:2%;\" cellpadding=\"15\">\n",
    "<thead>\n",
    "<tr style=\"vertical-align: middle; font-size: 1.2em; color: white; background-color: #4b8bff;\">\n",
    "<th style=\"width: 30%; padding-left: 2%; padding-top: 2%; padding-bottom: 2%;\">Metric</th>\n",
    "<th style=\"width: 30%; padding-left: 2%;\">Definition</th>\n",
    "<th style=\"width: 30%; padding-left: 2%;\">How to Calculate</th>\n",
    "</tr>\n",
    "</thead>\n",
    "<tbody>\n",
    "<tr style=\"vertical-align: top; background-color: #e9e9e9;\">\n",
    "<td style=\"padding-left: 2%; padding-right: 2%;\">Ratio of Data to Errors</td>\n",
    "<td style=\"padding-left: 2%; padding-right: 2%;\">How many errors do you have relative to the size of your data set?</td>\n",
    "<td style=\"padding-left: 2%; padding-right: 2%;\">Divide the total number of errors by the total number of items.</td>\n",
    "</tr>\n",
    "<tr style=\"vertical-align: top;\">\n",
    "<td style=\"padding-left: 2%; padding-right: 2%;\">Number of Empty Values</td>\n",
    "<td style=\"padding-left: 2%; padding-right: 2%;\">Empty values indicate information is missing from a data set.</td>\n",
    "<td style=\"padding-left: 2%; padding-right: 2%;\">Count the number of fields that are empty within a data set.</td>\n",
    "</tr>\n",
    "<tr style=\"vertical-align: top; background-color: #e9e9e9;\">\n",
    "<td style=\"padding-left: 2%; padding-right: 2%;\">Data Transformation Error Rates</td>\n",
    "<td style=\"padding-left: 2%; padding-right: 2%;\">How many errors arise as you convert information into a different format?</td>\n",
    "<td style=\"padding-left: 2%; padding-right: 2%;\">How often does data fail to convert successfully?</td>\n",
    "</tr>\n",
    "<tr style=\"vertical-align: top;\">\n",
    "<td style=\"padding-left: 2%; padding-right: 2%;\">Amounts of Dark Data</td>\n",
    "<td style=\"padding-left: 2%; padding-right: 2%;\">How much information is unusable due to data quality problems?</td>\n",
    "<td style=\"padding-left: 2%; padding-right: 2%;\">Look at how much of your data has data quality problems.</td>\n",
    "</tr>\n",
    "<tr style=\"vertical-align: top; background-color: #e9e9e9;\">\n",
    "<td style=\"padding-left: 2%; padding-right: 2%;\">Email Bounce Rates</td>\n",
    "<td style=\"padding-left: 2%; padding-right: 2%;\">What percentage of recipients didn’t receive your email because it went to the wrong address?</td>\n",
    "<td style=\"padding-left: 2%; padding-right: 2%;\">Divide the total number of emails that bounced by the total number of emails sent, then multiply by 100.</td>\n",
    "</tr>\n",
    "<tr style=\"vertical-align: top;\">\n",
    "<td style=\"padding-left: 2%; padding-right: 2%;\">Data Storage Costs</td>\n",
    "<td style=\"padding-left: 2%; padding-right: 2%;\">How much does it cost to store your data?</td>\n",
    "<td style=\"padding-left: 2%; padding-right: 2%;\">What is your data storage provider charging you to store information?</td>\n",
    "</tr>\n",
    "<tr style=\"vertical-align: top; background-color: #e9e9e9;\">\n",
    "<td style=\"padding-left: 2%; padding-right: 2%;\">Data Time-to-Value</td>\n",
    "<td style=\"padding-left: 2%; padding-right: 2%;\">How long does it take for your firm to get value from its information?</td>\n",
    "<td style=\"padding-left: 2%; padding-right: 2%;\">Decide what “value” means to your firm, then measure how long it takes to achieve that value.</td>\n",
    "</tr>\n",
    "</tbody>\n",
    "</table>"
   ]
  },
  {
   "cell_type": "markdown",
   "metadata": {},
   "source": [
    "<h1>Measurements of Central Tendency</h1>"
   ]
  },
  {
   "cell_type": "markdown",
   "metadata": {},
   "source": [
    " <p>In statistics, the three most common measures of central tendency are the <strong>mean, median, and mode.</strong> Each of these measures calculates the location of the central point using a different method.</p>"
   ]
  },
  {
   "cell_type": "markdown",
   "metadata": {},
   "source": [
    "<h3>Mean</h3>\n",
    "    \n",
    "<p> The mean is the arithmetic average, and it is probably the measure of central tendency that you are most familiar. Calculating the mean is very simple. You just add up all of the values and divide by the number of observations in your dataset.\n",
    "\n",
    "x1+x2/n\n",
    "\n",
    "The calculation of the mean incorporates all values in the data. If you change any value, the mean changes. However, the mean doesn’t always locate the center of the data accurately.</p>"
   ]
  },
  {
   "cell_type": "markdown",
   "metadata": {},
   "source": [
    "<h3>Median</h3>\n",
    "<p>The median is the middle value. It is the value that splits the dataset in half. To find the median, order your data from smallest to largest, and then find the data point that has an equal amount of values above it and below it. The method for locating the median varies slightly depending on whether your dataset has an even or odd number of values.</p>\n",
    "\n",
    "<p>In the dataset with the odd number of observations(1,2,3,4,5,6,12,7,8,9,0,1,2), notice how the number 12 has six values above it and six below it. Therefore, 12 is the median of this dataset.</p>\n",
    "<p>When there is an even number of values(1,2,3,4,5,6,27,29,8,9,0,1,2,1), you count in to the two innermost values and then take the average. The average of 27 and 29 is 28. Consequently, 28 is the median of this dataset.</p>"
   ]
  },
  {
   "cell_type": "markdown",
   "metadata": {},
   "source": [
    "<h3>Mode</h3>\n",
    "<P>The mode is the value that occurs the most frequently in your data set. On a bar chart, the mode is the highest bar. If the data have multiple values that are tied for occurring the most frequently, you have a multimodal distribution. If no value repeats, the data do not have a mode.\n",
    "\n",
    "In the dataset (1,23,4,5,55,5,6,65,5,5,6), the value 5 occurs most frequently, which makes it the mode. These data might represent a 5-point Likert scale.</P>"
   ]
  },
  {
   "cell_type": "markdown",
   "metadata": {},
   "source": [
    "<h3>Using central tendency based on distribution of data</h3>"
   ]
  },
  {
   "cell_type": "markdown",
   "metadata": {},
   "source": [
    "<img src=\"https://i0.wp.com/statisticsbyjim.com/wp-content/uploads/2018/02/histo_sym_cont.png?w=576&ssl=1\" height='250px' width=\"500px\"/>\n",
    "<p></p>\n",
    "<img src=\"https://i0.wp.com/statisticsbyjim.com/wp-content/uploads/2018/02/histo_skewed_cont.png?w=576&ssl=1\" height='250px' width=\"500px\"/>\n",
    "<p></p>\n",
    "<img src=\"https://i0.wp.com/statisticsbyjim.com/wp-content/uploads/2018/02/ice_cream_bar_chart.png?w=576&ssl=1\" height='250px' width=\"500px\"/>\n",
    "<p></p>\n",
    "<p></p>\n",
    "<p>The calculation of the mean incorporates all values in the data. If you change any value, the mean changes. However, the mean doesn’t always locate the center of the data accurately.</p>\n",
    "</br>\n",
    "<p></p>\n",
    "<p></p>\n",
    "<div class=\"col-xs-9 col-md-7\"><img src=\"https://i2.wp.com/statisticsbyjim.com/wp-content/uploads/2018/02/histo_sym_cont_mean.png?w=576&ssl=1\" height='250px' width=\"400px\"/></div>\n",
    "<div class=\".col-xs-3 .col-md-5\"><img src=\"https://i1.wp.com/statisticsbyjim.com/wp-content/uploads/2018/02/histo_skewed_cont_mean.png?w=576&ssl=1\" height='250px' width=\"400px\"/></div>\n",
    "</br>\n",
    "<p></p>"
   ]
  },
  {
   "cell_type": "markdown",
   "metadata": {},
   "source": [
    "<p>In a symmetric distribution, the mean locates the center accurately.</p>\n",
    "<p>However, in a skewed distribution, the mean can miss the mark. In the histogram above, it is starting to fall outside the central area. This problem occurs because outliers have a substantial impact on the mean. Extreme values in an extended tail pull the mean away from the center. As the distribution becomes more skewed, the mean is drawn further away from the center. <b>Consequently, it’s best to use the mean as a measure of the central tendency when you have a symmetric distribution</b></p>"
   ]
  },
  {
   "cell_type": "markdown",
   "metadata": {},
   "source": [
    "<h3>Comparing the mean,median and mode</h3>"
   ]
  },
  {
   "cell_type": "markdown",
   "metadata": {},
   "source": [
    "<p></p>\n",
    "<div class=\"col-xs-9 col-md-7\"><img src=\"https://i2.wp.com/statisticsbyjim.com/wp-content/uploads/2018/02/histo_sym_cont_values.png?w=576&ssl=1\" height='250px' width=\"400px\"/></div>\n",
    "<div class=\".col-xs-3 .col-md-5\"><img src=\"https://i2.wp.com/statisticsbyjim.com/wp-content/uploads/2018/02/histo_skewed_cont_values.png?w=576&ssl=1\" height='250px' width=\"400px\"/></div>\n",
    "</br>\n",
    "<p></p>\n",
    "<p>\n",
    "In a symmetric distribution, the mean and median both find the center accurately. They are approximately equal.</p>\n",
    "<p></p>\n",
    "<p>In a skewed distribution, the outliers in the tail pull the mean away from the center towards the longer tail. For this example, the mean and median differ by over 9000, and the median better represents the central tendency for the distribution.\n",
    "\n",
    "These data are based on the U.S. household income for 2006. Income is the classic example of when to use the median because it tends to be skewed. The median indicates that half of all incomes fall below 27581, and half are above it. For these data, the mean overestimates where most household incomes fall.</p>\n",
    "\n",
    "<p>You can use the mode when the data is Categorical data, Ordinal data, Count data, Probability Distributions</p>"
   ]
  },
  {
   "cell_type": "markdown",
   "metadata": {},
   "source": [
    "<h1>Measurements of Dispersion</h1>"
   ]
  },
  {
   "cell_type": "markdown",
   "metadata": {},
   "source": [
    "<p>The degree to which the individual values of the variety scatter away from the average or center location of center value, is called dispersion. There are two types of measure of dispersion, which are\n",
    "<p>(a) Absolute Measures of Dispersion</p>\n",
    "<p>(b) Relative Measures of Dispersion</p>\n",
    "</p>"
   ]
  },
  {
   "cell_type": "markdown",
   "metadata": {},
   "source": [
    "<h3>(a) Absolute Measures of Dispersion</h3>\n",
    "    \n",
    "<p>These measures give us an idea about the amount of dispersion in a set of observations. They give the answers in the same units as the units of the original observations. When the observations are in kilograms, the absolute measure is also in kilograms. If we have two sets of observations, we cannot always use the absolute measures to compare their dispersions. when the absolute measures can be used for comparison of dispersion in two or more sets of data. The absolute measures which are commonly used are:\n",
    "<p>1. Range</p>\n",
    "<p>2. Quartile Deviation</p>\n",
    "<p>3. Mean Deviation</p>\n",
    "<p>4. Standard Deviation and Variance</p>\n",
    " </p>"
   ]
  },
  {
   "cell_type": "markdown",
   "metadata": {},
   "source": [
    "<h3>Range</h3>\n",
    "<p>Range is defined as the difference between the maximum and the minimum observation of the given data. If <b>Xmax</b> denotes the maximum observation and <b>Xmin</b> denotes the minimum observation, then the range is defined as \n",
    "<b>Xmax-Xmin</b></p>\n",
    "\n",
    "<p>Range is based on two extreme observations. It is a poor measure of dispersion and does not give a good picture of the overall spread of the observations with respect to the center of the observations. Let us consider three groups of data which have the same range:\n",
    "<p>Example:\n",
    "<p>Group A: 30, 40, 40, 40, 40, 40, 50</p>\n",
    "<p>Group B: 30, 30, 30, 40, 50, 50, 50</p>\n",
    "<p>Group C: 30, 35, 40, 40, 40, 45, 50</p>\n",
    "</p>\n",
    "<p><b>Range= Xmax — Xmin</b></p>\n",
    "</p>\n",
    "In all the three groups the range is 50–30 = 20. In group A there is a concentration of observations in the center. In group B the observations are concentrated in the extreme corners, and in group C the observations are almost equally distributed in the interval from 30 to 50. The range fails to explain differences in the three groups of data. This defect in range cannot be removed even if we calculate the coefficient of the range, which is a relative measure of dispersion. If we calculate the range of a sample, we cannot draw any inferences about the range of the population.</p>"
   ]
  },
  {
   "cell_type": "markdown",
   "metadata": {},
   "source": [
    "<h3>Quartile Deviation</h3>\n",
    "<p>Quartile deviation is based on the lower quartile <b>Q1</b> and the upper quartile <b>Q3</b> The difference <b>Q3 -Q1</b> is called the inter quartile range. The difference <b>Q3 -Q1</b> divided by is called semi-inter-quartile range or the quartile deviation</p>\n",
    "\n",
    "quartile deviation = <b>Q3 -Q1/2</b>\n",
    "\n",
    "<img src=\"https://miro.medium.com/max/552/1*y6YyzvZIPBQ3b4Vmr0JFXQ.png\" height='250px' width=\"500px\"/>\n",
    "\n",
    "<p>The quartile deviation is a slightly better measure of absolute dispersion than the range, but it ignores the observations on the tails. If we take difference samples froma population and calculate their quartile deviations, their values are quite likely to be sufficiently different. This is called sampling fluctuation, and it is not a popular measure of dispersion. The quartile deviation calculated from the sample data does not help us to draw any conclusion (inference) about the quartile deviation in the population.</p>"
   ]
  },
  {
   "cell_type": "markdown",
   "metadata": {},
   "source": [
    "<h3>Mean Deviation</h3>\n",
    "\n",
    "<p>The mean deviation or the average deviation is defined as the mean of the absolute deviations of observations from some suitable average which may be the arithmetic mean, the median or the mode. The difference (x-average)\n",
    "is called deviation, and when we ignore the negative sign, this deviation is written as |x-average| and is read as mod deviations. The mean of these mod or absolute deviations is called the mean deviation or the mean absolute deviation. Thus for sample data in which the suitable average is the X the mean deviation M.D</p>\n",
    "<p></p>\n",
    "<p><center><b>Mean Deviation = Σ|x − μ|/N.</b></center></p>\n",
    "<p></p>\n",
    "<p>In simple words, <b>Average of absolute differences from the mean is known as mean deviation.</b>\n",
    "Don’t worry about the definition if you find it difficult. \n",
    "We will look at following steps which will help you to find mean deviation.\n",
    "<b>Steps:\n",
    "1. Calculate the mean for given data set.\n",
    "2. Find out the absolute difference of each data value from mean\n",
    "3. Add all the values you calculated in second step and divide by total number of data values</b></p>\n",
    "<p>The mean deviation is a better measure of the absolute dispersion than the range and the quartile deviation.</p>\n",
    "<p></p>\n",
    "<p>A drawback of the mean deviation is that we use the absolute |x-average| which does not seem logical. The reason for this is that the average deviation is always equal to zero. Even if we use median or mode in place of, the summation will be zero or approximately zero, with the result that the mean deviation will always be either zero or close to zero. Thus the very definition of the mean deviation is possible only for absolute deviations.\n",
    "The mean deviation is based on all the observations, a property which is not possessed by the range and the quartile deviation. The formula of the mean deviation gives a mathematical impression that is a better way of measuring the variations in the data. Any suitable average among the mean, median or mode can be used in its calculation, but the value of the mean deviation is the minimum if the deviations are taken from the median. A serious drawback of the mean deviation is that it cannot be used in statistical inference.</p>"
   ]
  },
  {
   "cell_type": "markdown",
   "metadata": {},
   "source": [
    "<h3>Standard Deviation and Variance</h3>\n",
    "\n"
   ]
  },
  {
   "cell_type": "markdown",
   "metadata": {},
   "source": [
    "<p><b>Variance</b>: The Variance is the average of squared differences from the mean.</p>\n",
    "<p>We will look into simple steps to calculate variance as well.\n",
    "<ul>\n",
    "<li>1. Calculate the mean of data values</li>\n",
    "<li>2. Find out the absolute difference of each data value from mean</li>\n",
    "<li>3. Square each absolute difference you find</li>\n",
    "<li>4. Take the mean of all squared values from step 3.</li>\n",
    "</ul>\n",
    "<p>We will again look at the same data set we looked for mean deviation.</p>\n",
    "\n",
    "<p><b>Standard Deviation</b>:The Standard Deviation is the square root of variance.</p>\n",
    "    \n",
    "<img src=\"https://raw.githubusercontent.com/vijaypyml/DataScience_courses/master/Var%20and%20sd.PNG\" height='250px' width=\"500px\"/>\n",
    "</p>\n",
    "\n",
    "<p>The standard deviation plays a dominant role in the study of variations in data. It is a very widely used measure of dispersion. It stands like a tower among measures of dispersion. As far as important statistical tools are concerned, the most important tool is the mean and the second most important tool is the standard deviation . It is based on all the observations and is subject to mathematical treatment. It is of great importance for the analysis of data and for various statistical inferences.</p>\n",
    "<p></p>\n",
    "<div class=\"col-xs-9 col-md-7\"><img src=\"https://github.com/vijaypyml/DataScience_courses/blob/master/sd.png?raw=true\" height='200px' width=\"300px\"/></div>\n",
    "<div class=\".col-xs-3 .col-md-5\"><img src=\"https://github.com/vijaypyml/DataScience_courses/blob/master/sdvalue.png?raw=true\" height='250px' width=\"400px\"/></div>\n",
    "</br>\n",
    "<p></p>\n",
    "<p> If the value of standard deviation is low then the values are closer to center of location.</p>\n",
    "<p>If the value of standard deviation is large then the observations are vary greatly to the center of location.</p>"
   ]
  },
  {
   "cell_type": "markdown",
   "metadata": {},
   "source": [
    "<h3>(b) Relative Measures of Dispersion</h3>\n",
    "\n",
    "<p>Relative measures of dispersion are measures of the variance of a range of values regardless of its unit of measure. This means that the spread of two ranges of values with different measures can be compared directly with relative measures of dispersion.</p>\n",
    "\n",
    "<p></p>\n",
    "\n",
    "<p>here are four relative measures of dispersion:</p>\n",
    "\n",
    "<p><ul>\n",
    "<li>Coefficient of Range</li>\n",
    "<li>Coefficient of Quartile Deviation</li>\n",
    "<li>Coefficient of Mean deviation</li>\n",
    "<li>Coefficient of variation</li>\n",
    "</ul>\n",
    "You may notice that all the relative measures of dispersion are called coefficients. </p>"
   ]
  },
  {
   "cell_type": "markdown",
   "metadata": {},
   "source": [
    "<h3>Coefficient of Range</h3>\n",
    "\n",
    "<p>The formula for the coefficient of range would be read as the largest value minus smallest value divided by largest value plus smallest value</p>\n",
    "</br>\n",
    "<img src=\"https://github.com/vijaypyml/DataScience_courses/blob/master/cor.jpeg?raw=true\" height='250px' width=\"500px\"/>\n",
    "<p>Let us take two sets of observations. Set A contains the marks of five students in mathematics out of 25 marks and group B contains marks of the same students in English out of 100 marks.\n",
    "<p>Set A: 10, 15, 18, 20, 20</p>\n",
    "<p>Set B: 30, 35, 40, 45, 50</p>\n",
    "The values of the ranges and coefficients of range are calculated as:</p>\n",
    "<img src=\"https://github.com/vijaypyml/DataScience_courses/blob/master/corTab.jpeg?raw=true\" height='250px' width=\"500px\"/>\n",
    "<p>In set A the range is 10 and in set B the range is 20. Apparently it seems there is greater dispersion in set B, but this is not true. The range of 20 in set B is for more observations and the range of 10 in set A is for fewer observations. Thus 20 and 10 cannot be compared directly. Their base is not the same. The marks in mathematics are out of 25 and the marks of English are out of 100. Thus, it makes no sense to compare 10 with 20. When we convert these two values into coefficients of range, we see that the coefficient of range for set A is greater than that of set B. Thus there is greater dispersion or variation in set A. The marks of students in English are more stable than their marks in mathematics.</p>"
   ]
  },
  {
   "cell_type": "markdown",
   "metadata": {},
   "source": [
    "<h3>Coefficient of Quartile Deviation</h3>\n",
    "\n",
    "A relative measure of dispersion based on the quartile deviation is called the coefficient of quartile deviation</p>\n",
    "<img src=\"https://github.com/vijaypyml/DataScience_courses/blob/master/coqd.jpeg?raw=true\" height='250px' width=\"500px\"/>\n",
    "<p>It is a pure number free of any units of measurement. It can be used for comparing the dispersion of two or more sets of data.</p>\n"
   ]
  },
  {
   "cell_type": "markdown",
   "metadata": {},
   "source": [
    "<h3>Coefficient of Mean Deviation</h3>\n",
    "<p>A relative measure of dispersion based on the mean deviation is called the coefficient of the mean deviation or the coefficient of dispersion. It is defined as the ratio of the mean deviation of the average used in the calculation of the mean deviation. Thus:</p>\n",
    "<img src=\"https://github.com/vijaypyml/DataScience_courses/blob/master/comd.jpeg?raw=true\" height='250px' width=\"500px\"/>\n",
    "<p></p>"
   ]
  },
  {
   "cell_type": "markdown",
   "metadata": {},
   "source": [
    "<h3>Coefficient of Standard Deviation</h3>\n",
    "<p>The standard deviation is the absolute measure of dispersion. Its relative measure is called the standard coefficient of dispersion or coefficient of standard deviation. </p>\n",
    "<img src=\"https://github.com/vijaypyml/DataScience_courses/blob/master/cosd.jpeg?raw=true\" height='250px' width=\"500px\"/>\n",
    "<p></p>"
   ]
  },
  {
   "cell_type": "markdown",
   "metadata": {},
   "source": [
    "<h3>Coefficient of Variation</h3>\n",
    "<p>The type of the relative measures of dispersion that corresponds to standard deviation is the “Coefficient of Variation.” It is usually expressed in percentage terms and is the most commonly used of the relative measures of dispersion. Since relative measures of dispersion are free from the units in which the values have been expressed, they can be compared even across different groups having different units of measurement.</p>\n",
    "<img src=\"https://github.com/vijaypyml/DataScience_courses/blob/master/cov.jpeg?raw=true\" height='250px' width=\"500px\"/>\n",
    "<p></p>\n",
    "<h4>Inferences based on coefficient of variance</h4>\n",
    "<p> If we want to compare the variability of two or more groups or series of data, we can use the coefficient of variation. The series or groups of data, for which the coefficient of variation is greater, indicating that the group is more variable, less stable, less uniform, less consistent or less homogeneous. If the coefficient of variation is lower, it indicates that the group is less variable, more stable, more uniform, more consistent or more homogeneous</p>\n",
    "\n",
    "\n",
    "<p>Please have a look at an illustration in the figures below. The example is about two factories: Factory A and Factory B that employs 476 and 524 workers respectively. The average weekly wages for each worker in Factory A and Factory B are USD 34.5 and USD 28.5 respectively. The standard deviation in paying the individual wages has been recorded as USD 5 and USD 4.5 for Factory A and Factory B respectively.</p>\n",
    "\n",
    "<p>There are two questions here that we need to solve:</p>\n",
    "\n",
    "<p>1.Which factory A or B pays out a larger amount as average weekly wages?<p>\n",
    "<p>2.Which factory A or B has greater variability in paying individual wages?</p>\n",
    "\n",
    "<p></p>\n",
    "<img src=\"https://github.com/vijaypyml/DataScience_courses/blob/master/cov1.PNG?raw=true\" height='250px' width=\"500px\"/>\n",
    "<p></p>\n",
    "<p>It is now quite clear that Factory A pays a larger amount of weekly wages than Factory B.</p>\n",
    "<p></p>\n",
    "<img src=\"https://github.com/vijaypyml/DataScience_courses/blob/master/cov2.PNG?raw=true\" height='250px' width=\"500px\"/>\n",
    "<p></p>\n",
    "<p><b>Inferences from the data:</b>\n",
    "In Factory B, it can be estimated that a small chunk of workers takes away larger portions of wages because of internal irregularities or policies of the company or other reasons. The chances are that not every worker in Factory B earns the average amount of wages. However, this may not be the case with Factory A. That was the last of the relative measures of dispersion.\n",
    "\n",
    "This simple example shows how <b>relative measures of dispersion such as coefficient of variation can be used to draw inferences about sets of data, even if the data was measured in different units</b></p>"
   ]
  },
  {
   "cell_type": "markdown",
   "metadata": {},
   "source": [
    "<h1>Descriptive Statistics - Using Python</h1>\n",
    "<p>When we have a set of observations, it is useful to summarize features of our data into a single statement called a descriptive statistic. As their name suggests, descriptive statistics describe a particular quality of the data they summarize. These statistics fall into two general categories: the measures of central tendency and the measures of spread.</p>"
   ]
  },
  {
   "cell_type": "code",
   "execution_count": 1,
   "metadata": {},
   "outputs": [],
   "source": [
    "import pandas as pd\n",
    "import numpy as np\n",
    "import matplotlib as mp\n",
    "%matplotlib inline"
   ]
  },
  {
   "cell_type": "code",
   "execution_count": 1,
   "metadata": {},
   "outputs": [
    {
     "name": "stdout",
     "output_type": "stream",
     "text": [
      "Download ready.\n"
     ]
    }
   ],
   "source": [
    "#download the data sets by using Python and save it in the current directory\n",
    "import requests\n",
    "\n",
    "download_url = \"https://raw.githubusercontent.com/vijaypyml/DataSets/master/apy.csv\"\n",
    "target_csv_path = \"apy.csv\"\n",
    "\n",
    "response = requests.get(download_url)\n",
    "response.raise_for_status()    # Check that the request was successful\n",
    "with open(target_csv_path, \"wb\") as f:\n",
    "    f.write(response.content)\n",
    "print(\"Download ready.\")"
   ]
  },
  {
   "cell_type": "code",
   "execution_count": 76,
   "metadata": {},
   "outputs": [],
   "source": [
    "df=pd.read_csv(\"apy.csv\",encoding = \"ISO-8859-1\")"
   ]
  },
  {
   "cell_type": "code",
   "execution_count": 77,
   "metadata": {},
   "outputs": [
    {
     "data": {
      "text/html": [
       "<div>\n",
       "<style scoped>\n",
       "    .dataframe tbody tr th:only-of-type {\n",
       "        vertical-align: middle;\n",
       "    }\n",
       "\n",
       "    .dataframe tbody tr th {\n",
       "        vertical-align: top;\n",
       "    }\n",
       "\n",
       "    .dataframe thead th {\n",
       "        text-align: right;\n",
       "    }\n",
       "</style>\n",
       "<table border=\"1\" class=\"dataframe\">\n",
       "  <thead>\n",
       "    <tr style=\"text-align: right;\">\n",
       "      <th></th>\n",
       "      <th>State_Name</th>\n",
       "      <th>District_Name</th>\n",
       "      <th>Crop_Year</th>\n",
       "      <th>Season</th>\n",
       "      <th>Crop</th>\n",
       "      <th>Area</th>\n",
       "      <th>Production</th>\n",
       "    </tr>\n",
       "  </thead>\n",
       "  <tbody>\n",
       "    <tr>\n",
       "      <th>0</th>\n",
       "      <td>Andaman and Nicobar Islands</td>\n",
       "      <td>NICOBARS</td>\n",
       "      <td>2000</td>\n",
       "      <td>Kharif</td>\n",
       "      <td>Arecanut</td>\n",
       "      <td>1254.0</td>\n",
       "      <td>2000</td>\n",
       "    </tr>\n",
       "    <tr>\n",
       "      <th>1</th>\n",
       "      <td>Andaman and Nicobar Islands</td>\n",
       "      <td>NICOBARS</td>\n",
       "      <td>2000</td>\n",
       "      <td>Kharif</td>\n",
       "      <td>Other Kharif pulses</td>\n",
       "      <td>2.0</td>\n",
       "      <td>1</td>\n",
       "    </tr>\n",
       "    <tr>\n",
       "      <th>2</th>\n",
       "      <td>Andaman and Nicobar Islands</td>\n",
       "      <td>NICOBARS</td>\n",
       "      <td>2000</td>\n",
       "      <td>Kharif</td>\n",
       "      <td>Rice</td>\n",
       "      <td>102.0</td>\n",
       "      <td>321</td>\n",
       "    </tr>\n",
       "    <tr>\n",
       "      <th>3</th>\n",
       "      <td>Andaman and Nicobar Islands</td>\n",
       "      <td>NICOBARS</td>\n",
       "      <td>2000</td>\n",
       "      <td>Whole Year</td>\n",
       "      <td>Banana</td>\n",
       "      <td>176.0</td>\n",
       "      <td>641</td>\n",
       "    </tr>\n",
       "    <tr>\n",
       "      <th>4</th>\n",
       "      <td>Andaman and Nicobar Islands</td>\n",
       "      <td>NICOBARS</td>\n",
       "      <td>2000</td>\n",
       "      <td>Whole Year</td>\n",
       "      <td>Cashewnut</td>\n",
       "      <td>720.0</td>\n",
       "      <td>165</td>\n",
       "    </tr>\n",
       "  </tbody>\n",
       "</table>\n",
       "</div>"
      ],
      "text/plain": [
       "                    State_Name District_Name  Crop_Year       Season  \\\n",
       "0  Andaman and Nicobar Islands      NICOBARS       2000  Kharif        \n",
       "1  Andaman and Nicobar Islands      NICOBARS       2000  Kharif        \n",
       "2  Andaman and Nicobar Islands      NICOBARS       2000  Kharif        \n",
       "3  Andaman and Nicobar Islands      NICOBARS       2000  Whole Year    \n",
       "4  Andaman and Nicobar Islands      NICOBARS       2000  Whole Year    \n",
       "\n",
       "                  Crop    Area Production  \n",
       "0             Arecanut  1254.0       2000  \n",
       "1  Other Kharif pulses     2.0          1  \n",
       "2                 Rice   102.0        321  \n",
       "3               Banana   176.0        641  \n",
       "4            Cashewnut   720.0        165  "
      ]
     },
     "execution_count": 77,
     "metadata": {},
     "output_type": "execute_result"
    }
   ],
   "source": [
    "df.head()"
   ]
  },
  {
   "cell_type": "code",
   "execution_count": 78,
   "metadata": {},
   "outputs": [
    {
     "name": "stdout",
     "output_type": "stream",
     "text": [
      "<class 'pandas.core.frame.DataFrame'>\n",
      "RangeIndex: 246091 entries, 0 to 246090\n",
      "Data columns (total 7 columns):\n",
      " #   Column         Non-Null Count   Dtype  \n",
      "---  ------         --------------   -----  \n",
      " 0   State_Name     246091 non-null  object \n",
      " 1   District_Name  246091 non-null  object \n",
      " 2   Crop_Year      246091 non-null  int64  \n",
      " 3   Season         246091 non-null  object \n",
      " 4   Crop           246091 non-null  object \n",
      " 5   Area           246091 non-null  float64\n",
      " 6   Production     246091 non-null  object \n",
      "dtypes: float64(1), int64(1), object(5)\n",
      "memory usage: 13.1+ MB\n"
     ]
    }
   ],
   "source": [
    "df.info()"
   ]
  },
  {
   "cell_type": "code",
   "execution_count": 79,
   "metadata": {},
   "outputs": [],
   "source": [
    "df['Production']=pd.to_numeric(df['Production'],errors='coerce')"
   ]
  },
  {
   "cell_type": "code",
   "execution_count": 80,
   "metadata": {},
   "outputs": [
    {
     "name": "stdout",
     "output_type": "stream",
     "text": [
      "<class 'pandas.core.frame.DataFrame'>\n",
      "RangeIndex: 246091 entries, 0 to 246090\n",
      "Data columns (total 7 columns):\n",
      " #   Column         Non-Null Count   Dtype  \n",
      "---  ------         --------------   -----  \n",
      " 0   State_Name     246091 non-null  object \n",
      " 1   District_Name  246091 non-null  object \n",
      " 2   Crop_Year      246091 non-null  int64  \n",
      " 3   Season         246091 non-null  object \n",
      " 4   Crop           246091 non-null  object \n",
      " 5   Area           246091 non-null  float64\n",
      " 6   Production     242364 non-null  float64\n",
      "dtypes: float64(2), int64(1), object(4)\n",
      "memory usage: 13.1+ MB\n"
     ]
    }
   ],
   "source": [
    "df.info()"
   ]
  },
  {
   "cell_type": "code",
   "execution_count": 81,
   "metadata": {},
   "outputs": [
    {
     "data": {
      "text/plain": [
       "Kharif         95951\n",
       "Rabi           66987\n",
       "Whole Year     57305\n",
       "Summer         14841\n",
       "Winter          6058\n",
       "Autumn          4949\n",
       "Name: Season, dtype: int64"
      ]
     },
     "execution_count": 81,
     "metadata": {},
     "output_type": "execute_result"
    }
   ],
   "source": [
    "df['Season'].value_counts()"
   ]
  },
  {
   "cell_type": "code",
   "execution_count": 82,
   "metadata": {},
   "outputs": [
    {
     "data": {
      "text/plain": [
       "Rice                 15104\n",
       "Maize                13947\n",
       "Moong(Green Gram)    10318\n",
       "Urad                  9850\n",
       "Sesamum               9046\n",
       "                     ...  \n",
       "Litchi                   6\n",
       "Plums                    6\n",
       "Apple                    4\n",
       "Peach                    4\n",
       "Other Dry Fruit          1\n",
       "Name: Crop, Length: 124, dtype: int64"
      ]
     },
     "execution_count": 82,
     "metadata": {},
     "output_type": "execute_result"
    }
   ],
   "source": [
    "df['Crop'].value_counts()"
   ]
  },
  {
   "cell_type": "code",
   "execution_count": 83,
   "metadata": {},
   "outputs": [
    {
     "data": {
      "text/html": [
       "<div>\n",
       "<style scoped>\n",
       "    .dataframe tbody tr th:only-of-type {\n",
       "        vertical-align: middle;\n",
       "    }\n",
       "\n",
       "    .dataframe tbody tr th {\n",
       "        vertical-align: top;\n",
       "    }\n",
       "\n",
       "    .dataframe thead th {\n",
       "        text-align: right;\n",
       "    }\n",
       "</style>\n",
       "<table border=\"1\" class=\"dataframe\">\n",
       "  <thead>\n",
       "    <tr style=\"text-align: right;\">\n",
       "      <th></th>\n",
       "      <th>Crop</th>\n",
       "      <th>Area</th>\n",
       "    </tr>\n",
       "  </thead>\n",
       "  <tbody>\n",
       "    <tr>\n",
       "      <th>0</th>\n",
       "      <td>Apple</td>\n",
       "      <td>9.000000e+00</td>\n",
       "    </tr>\n",
       "    <tr>\n",
       "      <th>1</th>\n",
       "      <td>Arcanut (Processed)</td>\n",
       "      <td>1.441160e+05</td>\n",
       "    </tr>\n",
       "    <tr>\n",
       "      <th>2</th>\n",
       "      <td>Arecanut</td>\n",
       "      <td>6.012013e+06</td>\n",
       "    </tr>\n",
       "    <tr>\n",
       "      <th>3</th>\n",
       "      <td>Arhar/Tur</td>\n",
       "      <td>5.779154e+07</td>\n",
       "    </tr>\n",
       "    <tr>\n",
       "      <th>4</th>\n",
       "      <td>Ash Gourd</td>\n",
       "      <td>1.644000e+03</td>\n",
       "    </tr>\n",
       "    <tr>\n",
       "      <th>...</th>\n",
       "      <td>...</td>\n",
       "      <td>...</td>\n",
       "    </tr>\n",
       "    <tr>\n",
       "      <th>119</th>\n",
       "      <td>Wheat</td>\n",
       "      <td>4.707136e+08</td>\n",
       "    </tr>\n",
       "    <tr>\n",
       "      <th>120</th>\n",
       "      <td>Yam</td>\n",
       "      <td>1.775000e+03</td>\n",
       "    </tr>\n",
       "    <tr>\n",
       "      <th>121</th>\n",
       "      <td>other fibres</td>\n",
       "      <td>1.263800e+04</td>\n",
       "    </tr>\n",
       "    <tr>\n",
       "      <th>122</th>\n",
       "      <td>other misc. pulses</td>\n",
       "      <td>3.084300e+04</td>\n",
       "    </tr>\n",
       "    <tr>\n",
       "      <th>123</th>\n",
       "      <td>other oilseeds</td>\n",
       "      <td>2.249815e+06</td>\n",
       "    </tr>\n",
       "  </tbody>\n",
       "</table>\n",
       "<p>124 rows × 2 columns</p>\n",
       "</div>"
      ],
      "text/plain": [
       "                    Crop          Area\n",
       "0                  Apple  9.000000e+00\n",
       "1    Arcanut (Processed)  1.441160e+05\n",
       "2               Arecanut  6.012013e+06\n",
       "3              Arhar/Tur  5.779154e+07\n",
       "4              Ash Gourd  1.644000e+03\n",
       "..                   ...           ...\n",
       "119                Wheat  4.707136e+08\n",
       "120                  Yam  1.775000e+03\n",
       "121         other fibres  1.263800e+04\n",
       "122   other misc. pulses  3.084300e+04\n",
       "123       other oilseeds  2.249815e+06\n",
       "\n",
       "[124 rows x 2 columns]"
      ]
     },
     "execution_count": 83,
     "metadata": {},
     "output_type": "execute_result"
    }
   ],
   "source": [
    "df[['Crop','Area']].groupby('Crop').sum().reset_index()"
   ]
  },
  {
   "cell_type": "code",
   "execution_count": 84,
   "metadata": {},
   "outputs": [
    {
     "data": {
      "text/plain": [
       "Area           12002.820864\n",
       "Production    582496.231979\n",
       "dtype: float64"
      ]
     },
     "execution_count": 84,
     "metadata": {},
     "output_type": "execute_result"
    }
   ],
   "source": [
    "df[['Area','Production']].mean(axis = 0)"
   ]
  },
  {
   "cell_type": "code",
   "execution_count": 85,
   "metadata": {},
   "outputs": [
    {
     "data": {
      "text/plain": [
       "Area          582.0\n",
       "Production    729.0\n",
       "dtype: float64"
      ]
     },
     "execution_count": 85,
     "metadata": {},
     "output_type": "execute_result"
    }
   ],
   "source": [
    "df[['Area','Production']].median(axis = 0)"
   ]
  },
  {
   "cell_type": "code",
   "execution_count": 86,
   "metadata": {},
   "outputs": [
    {
     "data": {
      "text/plain": [
       "Area          2.552614e+09\n",
       "Production    2.912384e+14\n",
       "dtype: float64"
      ]
     },
     "execution_count": 86,
     "metadata": {},
     "output_type": "execute_result"
    }
   ],
   "source": [
    "df[['Area','Production']].var()"
   ]
  },
  {
   "cell_type": "code",
   "execution_count": 87,
   "metadata": {},
   "outputs": [
    {
     "data": {
      "text/plain": [
       "Area          5.052340e+04\n",
       "Production    1.706571e+07\n",
       "dtype: float64"
      ]
     },
     "execution_count": 87,
     "metadata": {},
     "output_type": "execute_result"
    }
   ],
   "source": [
    "df[['Area','Production']].std()"
   ]
  },
  {
   "cell_type": "code",
   "execution_count": 88,
   "metadata": {},
   "outputs": [
    {
     "data": {
      "text/html": [
       "<div>\n",
       "<style scoped>\n",
       "    .dataframe tbody tr th:only-of-type {\n",
       "        vertical-align: middle;\n",
       "    }\n",
       "\n",
       "    .dataframe tbody tr th {\n",
       "        vertical-align: top;\n",
       "    }\n",
       "\n",
       "    .dataframe thead th {\n",
       "        text-align: right;\n",
       "    }\n",
       "</style>\n",
       "<table border=\"1\" class=\"dataframe\">\n",
       "  <thead>\n",
       "    <tr style=\"text-align: right;\">\n",
       "      <th></th>\n",
       "      <th>Crop_Year</th>\n",
       "      <th>Area</th>\n",
       "      <th>Production</th>\n",
       "    </tr>\n",
       "  </thead>\n",
       "  <tbody>\n",
       "    <tr>\n",
       "      <th>count</th>\n",
       "      <td>246091.000000</td>\n",
       "      <td>2.460910e+05</td>\n",
       "      <td>2.423640e+05</td>\n",
       "    </tr>\n",
       "    <tr>\n",
       "      <th>mean</th>\n",
       "      <td>2005.643018</td>\n",
       "      <td>1.200282e+04</td>\n",
       "      <td>5.824962e+05</td>\n",
       "    </tr>\n",
       "    <tr>\n",
       "      <th>std</th>\n",
       "      <td>4.952164</td>\n",
       "      <td>5.052340e+04</td>\n",
       "      <td>1.706571e+07</td>\n",
       "    </tr>\n",
       "    <tr>\n",
       "      <th>min</th>\n",
       "      <td>1997.000000</td>\n",
       "      <td>4.000000e-02</td>\n",
       "      <td>0.000000e+00</td>\n",
       "    </tr>\n",
       "    <tr>\n",
       "      <th>25%</th>\n",
       "      <td>2002.000000</td>\n",
       "      <td>8.000000e+01</td>\n",
       "      <td>8.800000e+01</td>\n",
       "    </tr>\n",
       "    <tr>\n",
       "      <th>50%</th>\n",
       "      <td>2006.000000</td>\n",
       "      <td>5.820000e+02</td>\n",
       "      <td>7.290000e+02</td>\n",
       "    </tr>\n",
       "    <tr>\n",
       "      <th>75%</th>\n",
       "      <td>2010.000000</td>\n",
       "      <td>4.392000e+03</td>\n",
       "      <td>7.022250e+03</td>\n",
       "    </tr>\n",
       "    <tr>\n",
       "      <th>max</th>\n",
       "      <td>2015.000000</td>\n",
       "      <td>8.580100e+06</td>\n",
       "      <td>1.250800e+09</td>\n",
       "    </tr>\n",
       "  </tbody>\n",
       "</table>\n",
       "</div>"
      ],
      "text/plain": [
       "           Crop_Year          Area    Production\n",
       "count  246091.000000  2.460910e+05  2.423640e+05\n",
       "mean     2005.643018  1.200282e+04  5.824962e+05\n",
       "std         4.952164  5.052340e+04  1.706571e+07\n",
       "min      1997.000000  4.000000e-02  0.000000e+00\n",
       "25%      2002.000000  8.000000e+01  8.800000e+01\n",
       "50%      2006.000000  5.820000e+02  7.290000e+02\n",
       "75%      2010.000000  4.392000e+03  7.022250e+03\n",
       "max      2015.000000  8.580100e+06  1.250800e+09"
      ]
     },
     "execution_count": 88,
     "metadata": {},
     "output_type": "execute_result"
    }
   ],
   "source": [
    "df.describe()"
   ]
  },
  {
   "cell_type": "code",
   "execution_count": 89,
   "metadata": {},
   "outputs": [
    {
     "data": {
      "text/html": [
       "<div>\n",
       "<style scoped>\n",
       "    .dataframe tbody tr th:only-of-type {\n",
       "        vertical-align: middle;\n",
       "    }\n",
       "\n",
       "    .dataframe tbody tr th {\n",
       "        vertical-align: top;\n",
       "    }\n",
       "\n",
       "    .dataframe thead th {\n",
       "        text-align: right;\n",
       "    }\n",
       "</style>\n",
       "<table border=\"1\" class=\"dataframe\">\n",
       "  <thead>\n",
       "    <tr style=\"text-align: right;\">\n",
       "      <th></th>\n",
       "      <th>State_Name</th>\n",
       "      <th>District_Name</th>\n",
       "      <th>Crop_Year</th>\n",
       "      <th>Season</th>\n",
       "      <th>Crop</th>\n",
       "      <th>Area</th>\n",
       "      <th>Production</th>\n",
       "    </tr>\n",
       "  </thead>\n",
       "  <tbody>\n",
       "    <tr>\n",
       "      <th>0</th>\n",
       "      <td>Uttar Pradesh</td>\n",
       "      <td>BIJAPUR</td>\n",
       "      <td>2003</td>\n",
       "      <td>Kharif</td>\n",
       "      <td>Rice</td>\n",
       "      <td>1.0</td>\n",
       "      <td>1.0</td>\n",
       "    </tr>\n",
       "  </tbody>\n",
       "</table>\n",
       "</div>"
      ],
      "text/plain": [
       "      State_Name District_Name  Crop_Year       Season  Crop  Area  Production\n",
       "0  Uttar Pradesh       BIJAPUR       2003  Kharif       Rice   1.0         1.0"
      ]
     },
     "execution_count": 89,
     "metadata": {},
     "output_type": "execute_result"
    }
   ],
   "source": [
    "df.mode()"
   ]
  },
  {
   "cell_type": "code",
   "execution_count": 90,
   "metadata": {},
   "outputs": [
    {
     "data": {
      "text/plain": [
       "Crop_Year      0.009581\n",
       "Area          48.001278\n",
       "Production    40.741792\n",
       "dtype: float64"
      ]
     },
     "execution_count": 90,
     "metadata": {},
     "output_type": "execute_result"
    }
   ],
   "source": [
    "df.skew()"
   ]
  },
  {
   "cell_type": "markdown",
   "metadata": {},
   "source": [
    "<p>The skewness values can be interpreted in the following manner:</p>\n",
    "\n",
    "<p>Highly skewed distribution: If the skewness value is less than −1 or greater than +1.</p>\n",
    "\n",
    "<p>Moderately skewed distribution: If the skewness value is between −1 and −½ or between +½ and +1.</p>\n",
    "\n",
    "<p>Approximately symmetric distribution: If the skewness value is between −½ and +½.</p>"
   ]
  },
  {
   "cell_type": "markdown",
   "metadata": {},
   "source": [
    "<h3>Visualizing datas with Matplotlib</h3>\n",
    "<p>Matplotlib is one of the most popular Python packages used for data visualization. It is a cross-platform library for making 2D plots from data in arrays. Matplotlib is written in Python and makes use of NumPy, the numerical mathematics extension of Python. It provides an object-oriented API that helps in embedding plots in applications using Python GUI toolkits such as PyQt, WxPythonotTkinter. It can be used in Python and IPython shells, Jupyter notebook and web application servers also.</p>"
   ]
  },
  {
   "cell_type": "code",
   "execution_count": 29,
   "metadata": {},
   "outputs": [],
   "source": [
    "import matplotlib.pyplot as plt\n",
    "%matplotlib inline"
   ]
  },
  {
   "cell_type": "code",
   "execution_count": 71,
   "metadata": {},
   "outputs": [
    {
     "data": {
      "image/png": "[encoded data removed]",
      "text/plain": [
       "<Figure size 432x288 with 1 Axes>"
      ]
     },
     "metadata": {
      "needs_background": "light"
     },
     "output_type": "display_data"
    }
   ],
   "source": [
    "#bar chart\n",
    "from matplotlib import pyplot as plt \n",
    "  \n",
    "# Y-axis values \n",
    "y = [10, 5, 8, 4, 2] \n",
    "  \n",
    "# Function to plot histogram \n",
    "plt.hist(df['Area']) \n",
    "  \n",
    "# Function to show the plot \n",
    "plt.show()"
   ]
  },
  {
   "cell_type": "code",
   "execution_count": 72,
   "metadata": {},
   "outputs": [
    {
     "data": {
      "image/png": "[encoded data removed]",
      "text/plain": [
       "<Figure size 432x288 with 1 Axes>"
      ]
     },
     "metadata": {
      "needs_background": "light"
     },
     "output_type": "display_data"
    }
   ],
   "source": [
    "#line chart \n",
    "# x-axis values \n",
    "x = [5, 2, 9, 4, 7] \n",
    "  \n",
    "# Y-axis values \n",
    "y = [10, 5, 8, 4, 2] \n",
    "  \n",
    "# Function to plot \n",
    "plt.plot(x,y) \n",
    "  \n",
    "# function to show the plot \n",
    "plt.show() "
   ]
  },
  {
   "cell_type": "code",
   "execution_count": 32,
   "metadata": {},
   "outputs": [
    {
     "data": {
      "image/png": "[encoded data removed]",
      "text/plain": [
       "<Figure size 432x288 with 1 Axes>"
      ]
     },
     "metadata": {
      "needs_background": "light"
     },
     "output_type": "display_data"
    }
   ],
   "source": [
    "# Bar Chart  \n",
    "from matplotlib import pyplot as plt \n",
    "  \n",
    "# x-axis values \n",
    "x = [5, 2, 9, 4, 7] \n",
    "  \n",
    "# Y-axis values \n",
    "y = [10, 5, 8, 4, 2] \n",
    "  \n",
    "# Function to plot the bar \n",
    "plt.bar(x,y) \n",
    "  \n",
    "# function to show the plot \n",
    "plt.show() "
   ]
  },
  {
   "cell_type": "code",
   "execution_count": 43,
   "metadata": {},
   "outputs": [
    {
     "data": {
      "image/png": "[encoded data removed]",
      "text/plain": [
       "<Figure size 432x288 with 1 Axes>"
      ]
     },
     "metadata": {
      "needs_background": "light"
     },
     "output_type": "display_data"
    }
   ],
   "source": [
    "# scatter plot  \n",
    "from matplotlib import pyplot as plt \n",
    "  \n",
    "# x-axis values \n",
    "x = [5, 2, 9, 4, 7] \n",
    "  \n",
    "# Y-axis values \n",
    "y = [10, 5, 8, 4, 2] \n",
    "  \n",
    "# Function to plot scatter \n",
    "plt.scatter(x, y) \n",
    "  \n",
    "# function to show the plot \n",
    "plt.show() "
   ]
  },
  {
   "cell_type": "code",
   "execution_count": 42,
   "metadata": {},
   "outputs": [
    {
     "data": {
      "text/plain": [
       "{'whiskers': [<matplotlib.lines.Line2D at 0x1b2804f1648>,\n",
       "  <matplotlib.lines.Line2D at 0x1b2804f14c8>],\n",
       " 'caps': [<matplotlib.lines.Line2D at 0x1b280502b08>,\n",
       "  <matplotlib.lines.Line2D at 0x1b280502108>],\n",
       " 'boxes': [<matplotlib.lines.Line2D at 0x1b2804f1488>],\n",
       " 'medians': [<matplotlib.lines.Line2D at 0x1b280502248>],\n",
       " 'fliers': [<matplotlib.lines.Line2D at 0x1b28050aa48>],\n",
       " 'means': []}"
      ]
     },
     "execution_count": 42,
     "metadata": {},
     "output_type": "execute_result"
    },
    {
     "data": {
      "image/png": "[encoded data removed]",
      "text/plain": [
       "<Figure size 432x288 with 1 Axes>"
      ]
     },
     "metadata": {
      "needs_background": "light"
     },
     "output_type": "display_data"
    }
   ],
   "source": [
    "fig1, ax1 = plt.subplots()\n",
    "ax1.set_title('Basic Plot')\n",
    "ax1.boxplot(df['Area'])"
   ]
  },
  {
   "cell_type": "markdown",
   "metadata": {},
   "source": [
    "<h3>Bivariate and  Covariance</h3>\n",
    "    \n",
    "<p>Usually, when an association between two variables is analyzed (the so called “Bivariate analysis”), one variable is defined as the “Outcome variable” and its different values are compared based on the different values displayed by the other variable, which is defined as the “Explanatory variable”. The values displayed by the explanatory variable define a subset of groups that will be compared; differences among different groups will be assessed based on the values displayed by the outcome variable.</p>\n",
    "<p>A causal explanation is one of the key goals of scientific research. When we define a cause and effect relationship, we are referring to the existence of a bond between two events, so that the occurrence of one specific event is the direct consequence of the occurrence of another event (or a group of events). <b>A simple empirical relationship between two events does not necessarily define the concept of causation.</b> In fact, “Co-variation” does not mean “Causation”.</p>\n",
    "\n",
    "<p><b>Covariation (correlation or association) means that we are just looking at the fact that two variables called X and Y present concurrent variations: when one changes the other changes too. Causation means that the hypothesis that the variation of X is determining a variation of Y is true.</b></p>\n",
    "\n",
    "<p>Many studies are performed to analyze how the value of an outcome variable may change based on the modifications of an explanatory variable. The methodology used in these cases depends on the type of variable that is being considered:</p>\n",
    "\n",
    "<p><b>Qualitative nominal variables (in these cases we will be dealing with “Association”);</b></p>\n",
    "\n",
    "<p><b>Qualitative ordinal variables (in these cases we will be dealing with “Co-graduation”);</b></p>\n",
    "\n",
    "<p><b>Quantitative variables (in these cases we will be dealing with “Correlation”).</b></p>\n",
    "\n",
    "<b>Example methods:</b>\n",
    "\n",
    "<p>❖ Association: chi-squared test (χ2), Fisher’s exact test;</p>\n",
    "<p>❖ Co-graduation: Kendall’s tau-c (τc), Kruskal’s gamma (ϒ), Somers’D.</p>\n",
    "<p>❖ Correlation: Pearson's correlation</p>\n",
    "\n",
    "<p><b>Visualization Technique</b>: Scatter Plot for understanding correlation between two variables</p>"
   ]
  },
  {
   "cell_type": "markdown",
   "metadata": {},
   "source": [
    "<p>There are two methods we will use to understand the relationship between the bivariate data</p>\n",
    "<p>1.Covariance</p>\n",
    "<p>2.Pearson Correlation Coefficient</p>"
   ]
  },
  {
   "cell_type": "markdown",
   "metadata": {},
   "source": [
    "<b><p>Pearson Correlation Coefficient</p></b>\n",
    "\n",
    "<p>If the value is close to 1, There is a postive correlation</p>\n",
    "\n",
    "<p>If the value is close to -1, There is a negative correlation</p>\n",
    "\n",
    "<p>if it is close to zero or approximately zero, There is no correlation</p>\n",
    "\n",
    "<img src=\"https://github.com/vijaypyml/Statistics-and-Probability/blob/master/correfor.PNG?raw=true\" height='250px' width=\"500px\"/>\n",
    "\n",
    "<img src=\"https://github.com/vijaypyml/Statistics-and-Probability/blob/master/correlation_diiff.PNG?raw=true\" height='250px' width=\"500px\"/>"
   ]
  },
  {
   "cell_type": "code",
   "execution_count": 92,
   "metadata": {},
   "outputs": [
    {
     "data": {
      "text/html": [
       "<div>\n",
       "<style scoped>\n",
       "    .dataframe tbody tr th:only-of-type {\n",
       "        vertical-align: middle;\n",
       "    }\n",
       "\n",
       "    .dataframe tbody tr th {\n",
       "        vertical-align: top;\n",
       "    }\n",
       "\n",
       "    .dataframe thead th {\n",
       "        text-align: right;\n",
       "    }\n",
       "</style>\n",
       "<table border=\"1\" class=\"dataframe\">\n",
       "  <thead>\n",
       "    <tr style=\"text-align: right;\">\n",
       "      <th></th>\n",
       "      <th>Crop_Year</th>\n",
       "      <th>Area</th>\n",
       "      <th>Production</th>\n",
       "    </tr>\n",
       "  </thead>\n",
       "  <tbody>\n",
       "    <tr>\n",
       "      <th>Crop_Year</th>\n",
       "      <td>1.000000</td>\n",
       "      <td>-0.026022</td>\n",
       "      <td>0.006989</td>\n",
       "    </tr>\n",
       "    <tr>\n",
       "      <th>Area</th>\n",
       "      <td>-0.026022</td>\n",
       "      <td>1.000000</td>\n",
       "      <td>0.040588</td>\n",
       "    </tr>\n",
       "    <tr>\n",
       "      <th>Production</th>\n",
       "      <td>0.006989</td>\n",
       "      <td>0.040588</td>\n",
       "      <td>1.000000</td>\n",
       "    </tr>\n",
       "  </tbody>\n",
       "</table>\n",
       "</div>"
      ],
      "text/plain": [
       "            Crop_Year      Area  Production\n",
       "Crop_Year    1.000000 -0.026022    0.006989\n",
       "Area        -0.026022  1.000000    0.040588\n",
       "Production   0.006989  0.040588    1.000000"
      ]
     },
     "execution_count": 92,
     "metadata": {},
     "output_type": "execute_result"
    }
   ],
   "source": [
    "# To understand Correlation in Python we will use .corr() with DataFrame\n",
    "df.corr()"
   ]
  },
  {
   "cell_type": "markdown",
   "metadata": {},
   "source": [
    "<h1>Probability</h1>\n",
    "\n",
    "<p></p></br>\n",
    " \n",
    "<li>What is Probability? </li>\n",
    "\n",
    "<li>Permutations</li>\n",
    "\n",
    "<li>Combinations </li>\n",
    "\n",
    "<li>Intersection,Unions and Complements </li>\n",
    "\n",
    "<li>Independent and Dependent events</li>\n",
    "\n",
    "<li>Conditional Probability</li>\n",
    "\n",
    "<li>Addition and Multiplication Rules</li>\n",
    "\n",
    "<li>Bayes Theorem</li>"
   ]
  },
  {
   "cell_type": "markdown",
   "metadata": {},
   "source": [
    "<h3>What is Probability?</h3>\n",
    "<p><strong>Probability</strong> is the study of random events. Most people have an intuitive\n",
    "understanding of degrees of probability, which is why you can use\n",
    "words like “probably” and “unlikely” without special training, but we\n",
    "will talk about how to make quantitative claims about those degrees</p>\n",
    "\n",
    "<p> Let us map them to few common terminology which we will use going forward.</p>\n",
    "\n",
    "<p><b>Experiment</b> – are the uncertain situations, which could have multiple outcomes. Whether it rains on a daily basis is an experiment.</p>\n",
    "<p><b>Outcome</b> is the result of a single trial. So, if it rains today, the outcome of today’s trial from the experiment is “It rained”</p>\n",
    "<p><b>Event</b> is one or more outcome from an experiment. “It rained” is one of the possible event for this experiment.</p>\n",
    "<p><b>Probability</b> is a measure of how likely an event is. So, if it is 60% chance that it will rain tomorrow, the probability of Outcome “it rained” for tomorrow is 0.6</p>"
   ]
  },
  {
   "cell_type": "markdown",
   "metadata": {},
   "source": [
    "<p>The concept of <b>probability space</b> forms the foundation of probability theory hence it is important to understand it.\n",
    "A probability space is used to model experiments. It is a mathematical concept and is also also known as the probability triple.</p>\n",
    "<p>There are three components in a probability space:</p>\n",
    "<li>A sample space: eg: tossing a coin leads to two possible outcome s={H,T} and The sample space of a stock price movement can be S ={Increase, Same, Decrease}</li> \n",
    "<li>A Set of events: set that contains a combination of outcomes.eg:for two coin a set of events s={HH,TT,HT,TH} </li>\n",
    "<li>Probability Measure:Each event has a probability assigned to it. The probability can be any value from 0 to 1. The key to note is that it is a non-negative number that cannot be greater than 1. The value of 1 implies that the event is guaranteed to occur whereas the value of 0 means that the event will never occur. eg:for on coin p(H)=1/2</li>"
   ]
  },
  {
   "cell_type": "markdown",
   "metadata": {},
   "source": [
    "<h3>Random Variable</h3>\n",
    "<p>To calculate the likelihood of occurence of an event, we need to put a framework to express the outcome in numbers. We can do this by mapping the outcome of an experiment to numbers.\n",
    "\n",
    "Let’s define X to be the outcome of a coin toss.\n",
    "\n",
    "X = outcome of a coin toss\n",
    "\n",
    "Possible Outcomes:\n",
    "\n",
    "<p>1 if heads</p>\n",
    "<p>0 if tails</p>\n",
    "Let’s take another one.\n",
    "\n",
    "<p>Suppose, I win the game if I get a sum of 8 while rolling two fair dice. I can define my random variable Y to be (the sum of the upward face of two fair dice )</p>\n",
    "\n",
    "Y can take values = (2, 3, 4, 5, 6, 7, 8, 9, 10, 11, 12)</p>\n",
    "<p><b>Discrete Random Variable</b></p>\n",
    "<p>A discrete random variable is one that has a finite set of possible outcomes. These outcomes can also be countably infinite but the key to note is that the sum of the finite set of outcomes should be 1.\n",
    "As an instance, throwing a dice, flipping a coin, days of a week, colours in a particular pencil box, gender, months, days of a month, etc. are all examples of a discrete random variable.</p>\n",
    "\n",
    "<p><b>Continous Random Variable</b></p>\n",
    "<p>A random variable that is not discrete is a continuous random variable. It has an infinite set of possible outcomes that cannot be counted.\n",
    "As an instance, the population of the world that is dependent on time, the interest rates, exchange rates, price of gold, rainfall in millimetres, etc. are all examples of a continuous random variable.</p>"
   ]
  },
  {
   "cell_type": "markdown",
   "metadata": {},
   "source": [
    "<h3>Permutation & Combination</h3>\n",
    "\n",
    "<p>In English we use the word \"combination\" loosely, without thinking if the order of things is important. In other words:\n",
    "\n",
    "\"My fruit salad is a combination of apples, grapes and bananas\" We don't care what order the fruits are in, they could also be \"bananas, grapes and apples\" or \"grapes, apples and bananas\", its the same fruit salad.\n",
    "\n",
    "\"The combination to the safe is 472\". Now we do care about the order. \"724\" won't work, nor will \"247\". It has to be exactly 4-7-2.\n",
    "\n",
    "So, in Mathematics we use more precise language:\n",
    "\n",
    "When the order doesn't matter, it is a Combination.\n",
    "When the order does matter it is a Permutation.</p>\n",
    "<img src=\"https://github.com/vijaypyml/Statistics-and-Probability/blob/master/per%20and%20comb.PNG?raw=true\" height='250px' width=\"500px\"/>\n"
   ]
  },
  {
   "cell_type": "markdown",
   "metadata": {},
   "source": [
    "<h3>Intersections,Unions & Complement</h3>\n",
    "<p><b>Intersection</b> The intersection of two sets contains only the elements that are in both sets.\n",
    "\n",
    "The intersection is notated A ⋂ B.\n",
    "\n",
    "P( A ⋂ B)=P(A) x P(B)\n",
    "\n",
    "More formally, x ∊ A ⋂ B if x ∊ A and x ∊ B\n",
    "</p>\n",
    "\n",
    "<p><b>Union</b>\n",
    "The union of two sets contains all the elements contained in either set (or both sets).\n",
    "\n",
    "The union is notated A ⋃ B.\n",
    "\n",
    "P( A ⋃ B)=P(A) + P(B) - P( A ⋂ B)\n",
    "    \n",
    "More formally, x ∊ A ⋃ B if x ∊ A or x ∊ B (or both)\n",
    "\n",
    "</p>\n",
    "<p><b>complement</b> of an event  A  in a sample space  S , denoted  Ac , is the collection of all outcomes in  S  that are not elements of the set  A . It corresponds to negating any description in words of the event  A .</p>\n",
    "\n",
    "P(A)=1−P(A)\n",
    "\n",
    "<p></p>\n",
    "<img src=\"https://github.com/vijaypyml/Statistics-and-Probability/blob/master/intucomp.PNG?raw=true\" height='250px' width=\"500px\"/>"
   ]
  },
  {
   "cell_type": "markdown",
   "metadata": {},
   "source": [
    "<h3>Probability Rules</h3>\n",
    "<p><b>Additional Rule</b>\n",
    "\n",
    "The addition rule is: \n",
    "P(A∪B)=P(A)+P(B)−P(A∩B).\n",
    "The last term has been accounted for twice, once in \n",
    "P(A) and once in P(B), so it must be subtracted once so that it is not double-counted.\n",
    "\n",
    "<b>Mutually exclusive</b> or Disjoint events are events that by definition cannot happen together. For example, when\n",
    "tossing a coin, the events ‘head’ and ‘tail’ are mutually exclusive; when testing a switch ‘operate’\n",
    "and ‘fail’ are mutually exclusive; and when testing the tensile strength of a piece of wire, ‘hold’ and\n",
    "‘snap’ are mutually exclusive. In such cases, the probability of both events occurring together must\n",
    "be zero.\n",
    "\n",
    "If A and B are disjoint, then \n",
    "\n",
    "  \n",
    "P(A∩B)=0, so the formula becomes \n",
    "\n",
    "P(A∪B)=P(A)+(B).\n",
    "\n",
    "Key Terms\n",
    "probability: The relative likelihood of an event happening.</p>\n",
    "<p><b>Multiplication Rule</b>\n",
    "The multiplication rule can be written as:\n",
    "P(A∩B)=P(B)⋅P(A|B).\n",
    "We obtain the general multiplication rule by multiplying both sides of the definition of conditional probability by the denominator.\n",
    "Key Terms\n",
    "sample space: The set of all possible outcomes of a game, experiment or other situation.</p>"
   ]
  },
  {
   "cell_type": "markdown",
   "metadata": {},
   "source": [
    "<h3>Dependent Event and Independent Event</h3>\n",
    "\n",
    "<p><b>Independent Event</b>\n",
    "Two events, A and B, are independent if the fact that A occurs does not affect the probability of B occurring.\n",
    "one of the example of independent events is:\n",
    "Landing on heads after tossing a coin</p>\n",
    "\n",
    "<p><b>Dependent Event</b>\n",
    " Two events are dependent if the outcome or occurrence of the first affects the outcome or occurrence of the second so that the probability is changed.</p>\n",
    " \n",
    "<b>The conditional probability</b> of an event B in relationship to an event A is the probability that event B occurs given that event A has already occurred. The notation for conditional probability is P(B|A)\n",
    "<img src=\"https://github.com/vijaypyml/Statistics-and-Probability/blob/master/conditionalP.PNG?raw=true\" height='250px' width=\"500px\"/>"
   ]
  },
  {
   "cell_type": "markdown",
   "metadata": {},
   "source": [
    "<h3>Bayes theorem</h3>\n",
    "<p> P(A|B) = P(A ∩ B) / P(B)\n",
    "    \n",
    "Similarly, P(B|A) = P(A ∩ B) / P(A)\n",
    "    \n",
    "It follows that P(A ∩ B) = P(A|B) * P(B) = P(B|A) * P(A)\n",
    "    \n",
    "Thus, P(A|B) = P(B|A)*P(A) / P(B)</p>\n",
    "\n",
    "<img src=\"https://github.com/vijaypyml/Statistics-and-Probability/blob/master/baayes%20Theorem.PNG?raw=true\" height='250px' width=\"500px\"/>"
   ]
  },
  {
   "cell_type": "markdown",
   "metadata": {},
   "source": [
    "<h1>Distributions</h1>"
   ]
  },
  {
   "cell_type": "markdown",
   "metadata": {},
   "source": [
    "<p>A probability distribution is a mathematical function that provides the probabilities of the occurrence of various possible outcomes in an experiment.\n",
    "\n",
    "Probability distributions are used to define different types of random variables in order to make decisions based on these models. There are two types of random variables: discrete and continuous.</p>\n",
    "\n",
    "<p><b>Discrete Distributions</b>\n",
    "    \n",
    "A discrete distribution displays the probabilities of the outcomes of a random variable with finite values and is used to model a discrete random variable. Discrete distributions can be laid out in tables and the values of the random variable are countable. These distributions are defined by probability mass functions.\n",
    "\n",
    "The probability mass function (or pmf) calculates the probability that the random variable will assume the one specific value that it is being calculated at: Pr(X=a).</p>\n",
    "\n",
    "\n",
    "\n",
    "\n",
    "<p><b>Continuous Distributions</b>\n",
    "\n",
    "A continuous distribution displays the ranges of probabilities for the outcomes of a random variable with infinite values and is used to model a continuous random variable. Continuous distributions measure something, rather than just count. Continuous distributions are typically described by probability distribution functions.\n",
    "The probability density function (or pdf) is a function that is used to calculate the probability that a continuous random variable will be less than or equal to the value it is being calculated at: Pr(a≤X≤b) or Pr(X≤b).</p>\n"
   ]
  },
  {
   "cell_type": "markdown",
   "metadata": {},
   "source": [
    "<img src=\"https://st3.ning.com/topology/rest/1.0/file/get/136706870?profile=original&amp%3Bwidth=600\" height='250px' width=\"500px\"/>\n",
    "\n"
   ]
  },
  {
   "cell_type": "code",
   "execution_count": null,
   "metadata": {},
   "outputs": [],
   "source": []
  }
 ],
 "metadata": {
  "kernelspec": {
   "display_name": "Python 3",
   "language": "python",
   "name": "python3"
  },
  "language_info": {
   "codemirror_mode": {
    "name": "ipython",
    "version": 3
   },
   "file_extension": ".py",
   "mimetype": "text/x-python",
   "name": "python",
   "nbconvert_exporter": "python",
   "pygments_lexer": "ipython3",
   "version": "3.7.6"
  }
 },
 "nbformat": 4,
 "nbformat_minor": 4
}
