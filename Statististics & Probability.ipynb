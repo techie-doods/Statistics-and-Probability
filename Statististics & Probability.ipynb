{
 "cells": [
  {
   "cell_type": "markdown",
   "metadata": {},
   "source": [
    "<center><h1> Statistics & Probability for Data Analysis and Analytics</h1></center>"
   ]
  },
  {
   "cell_type": "markdown",
   "metadata": {},
   "source": [
    "<center><h1>Statistics & Probability</h1></center>"
   ]
  },
  {
   "cell_type": "markdown",
   "metadata": {},
   "source": [
    "<h1>Topics</h1>\n",
    "<ul>\n",
    "<li>Introduction</li>\n",
    "\n",
    "<li>Data</li>\n",
    "\n",
    "<li>Descriptive statistics</li>\n",
    "\n",
    "<li>Distributions</li>\n",
    "    \n",
    "<li>Probability</li>\n",
    "\n",
    "<li>Estimators and estimates</li>\n",
    "\n",
    "<li>Confidence intervals</li>\n",
    "\n",
    "<li>Inferential statistics</li>\n",
    "\n",
    "<li>Hypothesis testing</li>\n",
    "\n",
    "<li>Correlation</li>\n",
    "<li>Regression analysis</li>\n",
    "\n",
    "<li>Dealing with categorical data</li>\n",
    "    \n",
    "<li>Chi square analysis</li>\n",
    "<li>ANOVA analysis</li>\n",
    "\n",
    "</ul>"
   ]
  },
  {
   "cell_type": "markdown",
   "metadata": {},
   "source": [
    "<h1>Introduction</h1>"
   ]
  },
  {
   "cell_type": "markdown",
   "metadata": {},
   "source": [
    "<p><strong>Probability</strong> is the study of random events. Most people have an intuitive\n",
    "understanding of degrees of probability, which is why you can use\n",
    "words like “probably” and “unlikely” without special training, but we\n",
    "will talk about how to make quantitative claims about those degrees.</p></br>\n",
    "\n",
    "<p><strong>Statistics</strong> is the discipline of using data samples to support claims about\n",
    "populations. Most statistical analysis is based on probability, which is\n",
    "why these pieces are usually presented together.</p></br>\n",
    "\n",
    "<p><strong>Computation</strong> is a tool that is well-suited to quantitative analysis, and\n",
    "computers are commonly used to process statistics. Also, computational experiments are useful for exploring concepts in probability and\n",
    "statistics.</p></br>\n",
    "\n",
    "<p><strong>Why Python for statistics?</strong></p>\n",
    "<p>R is a language dedicated to statistics. Python is a general-purpose\n",
    "language with statistics modules. R has more statistical analysis\n",
    "features than Python, and specialized syntaxes. However, when it\n",
    "comes to building complex analysis pipelines that mix statistics with\n",
    "e.g. image analysis, text mining, or control of a physical\n",
    "experiment, the richness of Python is an invaluable asset.</p>"
   ]
  },
  {
   "cell_type": "markdown",
   "metadata": {},
   "source": [
    " <h1>Data</h1>\n",
    "\n",
    "<p></p></br>\n",
    " \n",
    "<li>What is Data? </li>\n",
    "\n",
    "<li>Measuring Data </li>\n",
    "\n",
    "<li>Measurements of Central Tendency </li>\n",
    "\n",
    "<li>Measurements of Dispersion </li>\n",
    "\n",
    "<li>Measurements - Quartiles </li>\n",
    "\n",
    "<li>Bi-variate Data and Covariance </li>\n",
    "\n",
    "<li>Pearson Correlation Coefficient </li>\n",
    "\n",
    "<li>Section Assessment - Data </li>"
   ]
  },
  {
   "cell_type": "markdown",
   "metadata": {},
   "source": [
    "<h1>What is Data?</h1>"
   ]
  },
  {
   "cell_type": "markdown",
   "metadata": {},
   "source": [
    "<p>Data is a collection of facts, such as numbers, words, measurements, observations or just descriptions of things.</p>\n",
    "\n",
    "<p>Data can be <strong>qualitative or quantitative.</strong>\n",
    "\n",
    "<strong>Qualitative or Categorical data</strong> is descriptive information (it describes something)\n",
    " <p></p>\n",
    "<strong>Quantitative data</strong> is numerical information (numbers)</p>\n",
    "\n",
    "<strong>Dicrete data</strong> can be both Qualitative or Quantitative information (Example: Number of students in a class!)</p>\n",
    "<img src=\"https://www.mathsisfun.com/data/images/data-types.svg\"/>\n",
    "<center>Refered from mathsisfun </center>"
   ]
  },
  {
   "cell_type": "markdown",
   "metadata": {},
   "source": [
    "<h2>Different Types of Data</h2>\n",
    "\n",
    "<h3><strong>Categorical data types:</strong></h3>\n",
    "<p><strong>Nominal Data:</strong> Nominal Data are objects which are differentiated by a simple naming system. An important thing to note is that nominal data may also have numbers assigned to them Ex: Descripticve information of products</p>\n",
    "<p><strong>Ordinal Data:</strong> Ordinal Data are items in which their order matters Ex: Ranking system in schools</p>\n",
    "<h3><strong>Numerical data types:</strong></h3>\n",
    "<p><strong>Interval Data:</strong> Similar to ordinal data, interval data is measured along a scale in which each object’s position is equidistant from one another. This unique property allows arithmetic to be applied to them ex:the temperature in degrees Fahrenheit where the difference between 78 degrees and 79 degrees is the same as 45 degrees and 46 degrees.</p>\n",
    "<p><strong>Ratio</strong> Like Interval data, the differences in Ratio data are meaningful. The Ratio data has an added feature which makes the ratios of the objects meaningful as well, and that is that they have a true zero point. Zero represents the absence of a certain property. So when we say something is of zero weight, we mean that thing has an absence of mass. Ex:Weight and Height of person</p>\n",
    "<img src=\"https://miro.medium.com/max/1400/1*MpcJVoVMQimjUiLzi33izA.png\" height='250px' width=\"500px\"/>\n",
    "\n"
   ]
  },
  {
   "cell_type": "markdown",
   "metadata": {},
   "source": [
    "<strong>Importing Datasets using Python(Pandas) to categorize the Qualitative and Quantitative information</strong>\n",
    "<p>Prerequisites Python libraries</p>\n",
    "<li>Pandas</li>\n",
    "<li>Matplolib</li>\n",
    "<li>Seaborn</li>"
   ]
  },
  {
   "cell_type": "code",
   "execution_count": 3,
   "metadata": {},
   "outputs": [],
   "source": [
    "import pandas as pd"
   ]
  },
  {
   "cell_type": "code",
   "execution_count": 7,
   "metadata": {},
   "outputs": [],
   "source": [
    "df=pd.read_csv(\"https://raw.githubusercontent.com/vijaypyml/DataSets/master/apy.csv\",encoding = \"ISO-8859-1\")\n",
    "#To download this data please refer https://github.com/vijaypyml/DataSets/blob/master/apy.csv"
   ]
  },
  {
   "cell_type": "code",
   "execution_count": 6,
   "metadata": {},
   "outputs": [
    {
     "data": {
      "text/html": [
       "<div>\n",
       "<style scoped>\n",
       "    .dataframe tbody tr th:only-of-type {\n",
       "        vertical-align: middle;\n",
       "    }\n",
       "\n",
       "    .dataframe tbody tr th {\n",
       "        vertical-align: top;\n",
       "    }\n",
       "\n",
       "    .dataframe thead th {\n",
       "        text-align: right;\n",
       "    }\n",
       "</style>\n",
       "<table border=\"1\" class=\"dataframe\">\n",
       "  <thead>\n",
       "    <tr style=\"text-align: right;\">\n",
       "      <th></th>\n",
       "      <th>State_Name</th>\n",
       "      <th>District_Name</th>\n",
       "      <th>Crop_Year</th>\n",
       "      <th>Season</th>\n",
       "      <th>Crop</th>\n",
       "      <th>Area</th>\n",
       "      <th>Production</th>\n",
       "    </tr>\n",
       "  </thead>\n",
       "  <tbody>\n",
       "    <tr>\n",
       "      <th>0</th>\n",
       "      <td>Andaman and Nicobar Islands</td>\n",
       "      <td>NICOBARS</td>\n",
       "      <td>2000</td>\n",
       "      <td>Kharif</td>\n",
       "      <td>Arecanut</td>\n",
       "      <td>1254.0</td>\n",
       "      <td>2000</td>\n",
       "    </tr>\n",
       "    <tr>\n",
       "      <th>1</th>\n",
       "      <td>Andaman and Nicobar Islands</td>\n",
       "      <td>NICOBARS</td>\n",
       "      <td>2000</td>\n",
       "      <td>Kharif</td>\n",
       "      <td>Other Kharif pulses</td>\n",
       "      <td>2.0</td>\n",
       "      <td>1</td>\n",
       "    </tr>\n",
       "    <tr>\n",
       "      <th>2</th>\n",
       "      <td>Andaman and Nicobar Islands</td>\n",
       "      <td>NICOBARS</td>\n",
       "      <td>2000</td>\n",
       "      <td>Kharif</td>\n",
       "      <td>Rice</td>\n",
       "      <td>102.0</td>\n",
       "      <td>321</td>\n",
       "    </tr>\n",
       "    <tr>\n",
       "      <th>3</th>\n",
       "      <td>Andaman and Nicobar Islands</td>\n",
       "      <td>NICOBARS</td>\n",
       "      <td>2000</td>\n",
       "      <td>Whole Year</td>\n",
       "      <td>Banana</td>\n",
       "      <td>176.0</td>\n",
       "      <td>641</td>\n",
       "    </tr>\n",
       "    <tr>\n",
       "      <th>4</th>\n",
       "      <td>Andaman and Nicobar Islands</td>\n",
       "      <td>NICOBARS</td>\n",
       "      <td>2000</td>\n",
       "      <td>Whole Year</td>\n",
       "      <td>Cashewnut</td>\n",
       "      <td>720.0</td>\n",
       "      <td>165</td>\n",
       "    </tr>\n",
       "  </tbody>\n",
       "</table>\n",
       "</div>"
      ],
      "text/plain": [
       "                    State_Name District_Name  Crop_Year       Season  \\\n",
       "0  Andaman and Nicobar Islands      NICOBARS       2000  Kharif        \n",
       "1  Andaman and Nicobar Islands      NICOBARS       2000  Kharif        \n",
       "2  Andaman and Nicobar Islands      NICOBARS       2000  Kharif        \n",
       "3  Andaman and Nicobar Islands      NICOBARS       2000  Whole Year    \n",
       "4  Andaman and Nicobar Islands      NICOBARS       2000  Whole Year    \n",
       "\n",
       "                  Crop    Area Production  \n",
       "0             Arecanut  1254.0       2000  \n",
       "1  Other Kharif pulses     2.0          1  \n",
       "2                 Rice   102.0        321  \n",
       "3               Banana   176.0        641  \n",
       "4            Cashewnut   720.0        165  "
      ]
     },
     "execution_count": 6,
     "metadata": {},
     "output_type": "execute_result"
    }
   ],
   "source": [
    "#To see the sample records\n",
    "\n",
    "df.head()"
   ]
  },
  {
   "cell_type": "code",
   "execution_count": 26,
   "metadata": {},
   "outputs": [
    {
     "data": {
      "text/plain": [
       "State_Name        object\n",
       "District_Name     object\n",
       "Crop_Year          int64\n",
       "Season            object\n",
       "Crop              object\n",
       "Area             float64\n",
       "Production        object\n",
       "dtype: object"
      ]
     },
     "execution_count": 26,
     "metadata": {},
     "output_type": "execute_result"
    }
   ],
   "source": [
    "#To identify each column types\n",
    "df.dtypes"
   ]
  },
  {
   "cell_type": "code",
   "execution_count": 30,
   "metadata": {},
   "outputs": [],
   "source": [
    "#converting nominal to numeric\n",
    "df['Production']=pd.to_numeric(df['Production'],errors='coerce')"
   ]
  },
  {
   "cell_type": "code",
   "execution_count": 31,
   "metadata": {},
   "outputs": [
    {
     "data": {
      "text/plain": [
       "State_Name        object\n",
       "District_Name     object\n",
       "Crop_Year          int64\n",
       "Season            object\n",
       "Crop              object\n",
       "Area             float64\n",
       "Production       float64\n",
       "dtype: object"
      ]
     },
     "execution_count": 31,
     "metadata": {},
     "output_type": "execute_result"
    }
   ],
   "source": [
    "df.dtypes"
   ]
  },
  {
   "cell_type": "code",
   "execution_count": 33,
   "metadata": {},
   "outputs": [
    {
     "data": {
      "text/html": [
       "<div>\n",
       "<style scoped>\n",
       "    .dataframe tbody tr th:only-of-type {\n",
       "        vertical-align: middle;\n",
       "    }\n",
       "\n",
       "    .dataframe tbody tr th {\n",
       "        vertical-align: top;\n",
       "    }\n",
       "\n",
       "    .dataframe thead th {\n",
       "        text-align: right;\n",
       "    }\n",
       "</style>\n",
       "<table border=\"1\" class=\"dataframe\">\n",
       "  <thead>\n",
       "    <tr style=\"text-align: right;\">\n",
       "      <th></th>\n",
       "      <th>State_Name</th>\n",
       "      <th>District_Name</th>\n",
       "      <th>Crop_Year</th>\n",
       "      <th>Season</th>\n",
       "      <th>Crop</th>\n",
       "      <th>Area</th>\n",
       "      <th>Production</th>\n",
       "    </tr>\n",
       "  </thead>\n",
       "  <tbody>\n",
       "    <tr>\n",
       "      <th>246086</th>\n",
       "      <td>West Bengal</td>\n",
       "      <td>PURULIA</td>\n",
       "      <td>2014</td>\n",
       "      <td>Summer</td>\n",
       "      <td>Rice</td>\n",
       "      <td>306.0</td>\n",
       "      <td>801.0</td>\n",
       "    </tr>\n",
       "    <tr>\n",
       "      <th>246087</th>\n",
       "      <td>West Bengal</td>\n",
       "      <td>PURULIA</td>\n",
       "      <td>2014</td>\n",
       "      <td>Summer</td>\n",
       "      <td>Sesamum</td>\n",
       "      <td>627.0</td>\n",
       "      <td>463.0</td>\n",
       "    </tr>\n",
       "    <tr>\n",
       "      <th>246088</th>\n",
       "      <td>West Bengal</td>\n",
       "      <td>PURULIA</td>\n",
       "      <td>2014</td>\n",
       "      <td>Whole Year</td>\n",
       "      <td>Sugarcane</td>\n",
       "      <td>324.0</td>\n",
       "      <td>16250.0</td>\n",
       "    </tr>\n",
       "    <tr>\n",
       "      <th>246089</th>\n",
       "      <td>West Bengal</td>\n",
       "      <td>PURULIA</td>\n",
       "      <td>2014</td>\n",
       "      <td>Winter</td>\n",
       "      <td>Rice</td>\n",
       "      <td>279151.0</td>\n",
       "      <td>597899.0</td>\n",
       "    </tr>\n",
       "    <tr>\n",
       "      <th>246090</th>\n",
       "      <td>West Bengal</td>\n",
       "      <td>PURULIA</td>\n",
       "      <td>2014</td>\n",
       "      <td>Winter</td>\n",
       "      <td>Sesamum</td>\n",
       "      <td>175.0</td>\n",
       "      <td>88.0</td>\n",
       "    </tr>\n",
       "  </tbody>\n",
       "</table>\n",
       "</div>"
      ],
      "text/plain": [
       "         State_Name District_Name  Crop_Year       Season       Crop  \\\n",
       "246086  West Bengal       PURULIA       2014  Summer            Rice   \n",
       "246087  West Bengal       PURULIA       2014  Summer         Sesamum   \n",
       "246088  West Bengal       PURULIA       2014  Whole Year   Sugarcane   \n",
       "246089  West Bengal       PURULIA       2014  Winter            Rice   \n",
       "246090  West Bengal       PURULIA       2014  Winter         Sesamum   \n",
       "\n",
       "            Area  Production  \n",
       "246086     306.0       801.0  \n",
       "246087     627.0       463.0  \n",
       "246088     324.0     16250.0  \n",
       "246089  279151.0    597899.0  \n",
       "246090     175.0        88.0  "
      ]
     },
     "execution_count": 33,
     "metadata": {},
     "output_type": "execute_result"
    }
   ],
   "source": [
    "#To show last five records\n",
    "df.tail(5)"
   ]
  },
  {
   "cell_type": "code",
   "execution_count": 50,
   "metadata": {},
   "outputs": [
    {
     "name": "stdout",
     "output_type": "stream",
     "text": [
      "<class 'pandas.core.frame.DataFrame'>\n",
      "RangeIndex: 246091 entries, 0 to 246090\n",
      "Data columns (total 7 columns):\n",
      " #   Column         Non-Null Count   Dtype  \n",
      "---  ------         --------------   -----  \n",
      " 0   State_Name     246091 non-null  object \n",
      " 1   District_Name  246091 non-null  object \n",
      " 2   Crop_Year      246091 non-null  int64  \n",
      " 3   Season         246091 non-null  object \n",
      " 4   Crop           246091 non-null  object \n",
      " 5   Area           246091 non-null  float64\n",
      " 6   Production     242364 non-null  float64\n",
      "dtypes: float64(2), int64(1), object(4)\n",
      "memory usage: 13.1+ MB\n"
     ]
    }
   ],
   "source": [
    "# Details of dataframe\n",
    "df.info()"
   ]
  },
  {
   "cell_type": "markdown",
   "metadata": {},
   "source": [
    "<h1>Measuring Data</h1>\n",
    "<p>A data can be measure by the 7 metric wich has been listed below</p>"
   ]
  },
  {
   "cell_type": "markdown",
   "metadata": {},
   "source": [
    "<table style=\"margin-bottom:2%;\" cellpadding=\"15\">\n",
    "<thead>\n",
    "<tr style=\"vertical-align: middle; font-size: 1.2em; color: white; background-color: #4b8bff;\">\n",
    "<th style=\"width: 30%; padding-left: 2%; padding-top: 2%; padding-bottom: 2%;\">Metric</th>\n",
    "<th style=\"width: 30%; padding-left: 2%;\">Definition</th>\n",
    "<th style=\"width: 30%; padding-left: 2%;\">How to Calculate</th>\n",
    "</tr>\n",
    "</thead>\n",
    "<tbody>\n",
    "<tr style=\"vertical-align: top; background-color: #e9e9e9;\">\n",
    "<td style=\"padding-left: 2%; padding-right: 2%;\">Ratio of Data to Errors</td>\n",
    "<td style=\"padding-left: 2%; padding-right: 2%;\">How many errors do you have relative to the size of your data set?</td>\n",
    "<td style=\"padding-left: 2%; padding-right: 2%;\">Divide the total number of errors by the total number of items.</td>\n",
    "</tr>\n",
    "<tr style=\"vertical-align: top;\">\n",
    "<td style=\"padding-left: 2%; padding-right: 2%;\">Number of Empty Values</td>\n",
    "<td style=\"padding-left: 2%; padding-right: 2%;\">Empty values indicate information is missing from a data set.</td>\n",
    "<td style=\"padding-left: 2%; padding-right: 2%;\">Count the number of fields that are empty within a data set.</td>\n",
    "</tr>\n",
    "<tr style=\"vertical-align: top; background-color: #e9e9e9;\">\n",
    "<td style=\"padding-left: 2%; padding-right: 2%;\">Data Transformation Error Rates</td>\n",
    "<td style=\"padding-left: 2%; padding-right: 2%;\">How many errors arise as you convert information into a different format?</td>\n",
    "<td style=\"padding-left: 2%; padding-right: 2%;\">How often does data fail to convert successfully?</td>\n",
    "</tr>\n",
    "<tr style=\"vertical-align: top;\">\n",
    "<td style=\"padding-left: 2%; padding-right: 2%;\">Amounts of Dark Data</td>\n",
    "<td style=\"padding-left: 2%; padding-right: 2%;\">How much information is unusable due to data quality problems?</td>\n",
    "<td style=\"padding-left: 2%; padding-right: 2%;\">Look at how much of your data has data quality problems.</td>\n",
    "</tr>\n",
    "<tr style=\"vertical-align: top; background-color: #e9e9e9;\">\n",
    "<td style=\"padding-left: 2%; padding-right: 2%;\">Email Bounce Rates</td>\n",
    "<td style=\"padding-left: 2%; padding-right: 2%;\">What percentage of recipients didn’t receive your email because it went to the wrong address?</td>\n",
    "<td style=\"padding-left: 2%; padding-right: 2%;\">Divide the total number of emails that bounced by the total number of emails sent, then multiply by 100.</td>\n",
    "</tr>\n",
    "<tr style=\"vertical-align: top;\">\n",
    "<td style=\"padding-left: 2%; padding-right: 2%;\">Data Storage Costs</td>\n",
    "<td style=\"padding-left: 2%; padding-right: 2%;\">How much does it cost to store your data?</td>\n",
    "<td style=\"padding-left: 2%; padding-right: 2%;\">What is your data storage provider charging you to store information?</td>\n",
    "</tr>\n",
    "<tr style=\"vertical-align: top; background-color: #e9e9e9;\">\n",
    "<td style=\"padding-left: 2%; padding-right: 2%;\">Data Time-to-Value</td>\n",
    "<td style=\"padding-left: 2%; padding-right: 2%;\">How long does it take for your firm to get value from its information?</td>\n",
    "<td style=\"padding-left: 2%; padding-right: 2%;\">Decide what “value” means to your firm, then measure how long it takes to achieve that value.</td>\n",
    "</tr>\n",
    "</tbody>\n",
    "</table>"
   ]
  },
  {
   "cell_type": "markdown",
   "metadata": {},
   "source": [
    "<h1>Measurements of Central Tendency</h1>"
   ]
  },
  {
   "cell_type": "markdown",
   "metadata": {},
   "source": [
    " <p>In statistics, the three most common measures of central tendency are the <strong>mean, median, and mode.</strong> Each of these measures calculates the location of the central point using a different method.</p>"
   ]
  },
  {
   "cell_type": "markdown",
   "metadata": {},
   "source": [
    "<h3>Mean</h3>\n",
    "    \n",
    "<p> The mean is the arithmetic average, and it is probably the measure of central tendency that you are most familiar. Calculating the mean is very simple. You just add up all of the values and divide by the number of observations in your dataset.\n",
    "\n",
    "x1+x2/n\n",
    "\n",
    "The calculation of the mean incorporates all values in the data. If you change any value, the mean changes. However, the mean doesn’t always locate the center of the data accurately.</p>"
   ]
  },
  {
   "cell_type": "markdown",
   "metadata": {},
   "source": [
    "<h3>Median</h3>\n",
    "<p>The median is the middle value. It is the value that splits the dataset in half. To find the median, order your data from smallest to largest, and then find the data point that has an equal amount of values above it and below it. The method for locating the median varies slightly depending on whether your dataset has an even or odd number of values.</p>\n",
    "\n",
    "<p>In the dataset with the odd number of observations(1,2,3,4,5,6,12,7,8,9,0,1,2), notice how the number 12 has six values above it and six below it. Therefore, 12 is the median of this dataset.</p>\n",
    "<p>When there is an even number of values(1,2,3,4,5,6,27,29,8,9,0,1,2,1), you count in to the two innermost values and then take the average. The average of 27 and 29 is 28. Consequently, 28 is the median of this dataset.</p>"
   ]
  },
  {
   "cell_type": "markdown",
   "metadata": {},
   "source": [
    "<h3>Mode</h3>\n",
    "<P>The mode is the value that occurs the most frequently in your data set. On a bar chart, the mode is the highest bar. If the data have multiple values that are tied for occurring the most frequently, you have a multimodal distribution. If no value repeats, the data do not have a mode.\n",
    "\n",
    "In the dataset (1,23,4,5,55,5,6,65,5,5,6), the value 5 occurs most frequently, which makes it the mode. These data might represent a 5-point Likert scale.</P>"
   ]
  },
  {
   "cell_type": "markdown",
   "metadata": {},
   "source": [
    "<h3>Using central tendency based on distribution of data</h3>"
   ]
  },
  {
   "cell_type": "markdown",
   "metadata": {},
   "source": [
    "<img src=\"https://i0.wp.com/statisticsbyjim.com/wp-content/uploads/2018/02/histo_sym_cont.png?w=576&ssl=1\" height='250px' width=\"500px\"/>\n",
    "<p></p>\n",
    "<img src=\"https://i0.wp.com/statisticsbyjim.com/wp-content/uploads/2018/02/histo_skewed_cont.png?w=576&ssl=1\" height='250px' width=\"500px\"/>\n",
    "<p></p>\n",
    "<img src=\"https://i0.wp.com/statisticsbyjim.com/wp-content/uploads/2018/02/ice_cream_bar_chart.png?w=576&ssl=1\" height='250px' width=\"500px\"/>\n",
    "<p></p>\n",
    "<p></p>\n",
    "<p>The calculation of the mean incorporates all values in the data. If you change any value, the mean changes. However, the mean doesn’t always locate the center of the data accurately.</p>\n",
    "</br>\n",
    "<p></p>\n",
    "<p></p>\n",
    "<div class=\"col-xs-9 col-md-7\"><img src=\"https://i2.wp.com/statisticsbyjim.com/wp-content/uploads/2018/02/histo_sym_cont_mean.png?w=576&ssl=1\" height='250px' width=\"400px\"/></div>\n",
    "<div class=\".col-xs-3 .col-md-5\"><img src=\"https://i1.wp.com/statisticsbyjim.com/wp-content/uploads/2018/02/histo_skewed_cont_mean.png?w=576&ssl=1\" height='250px' width=\"400px\"/></div>\n",
    "</br>\n",
    "<p></p>"
   ]
  },
  {
   "cell_type": "markdown",
   "metadata": {},
   "source": [
    "<p>In a symmetric distribution, the mean locates the center accurately.</p>\n",
    "<p>However, in a skewed distribution, the mean can miss the mark. In the histogram above, it is starting to fall outside the central area. This problem occurs because outliers have a substantial impact on the mean. Extreme values in an extended tail pull the mean away from the center. As the distribution becomes more skewed, the mean is drawn further away from the center. <b>Consequently, it’s best to use the mean as a measure of the central tendency when you have a symmetric distribution</b></p>"
   ]
  },
  {
   "cell_type": "markdown",
   "metadata": {},
   "source": [
    "<h3>Comparing the mean,median and mode</h3>"
   ]
  },
  {
   "cell_type": "markdown",
   "metadata": {},
   "source": [
    "<p></p>\n",
    "<div class=\"col-xs-9 col-md-7\"><img src=\"https://i2.wp.com/statisticsbyjim.com/wp-content/uploads/2018/02/histo_sym_cont_values.png?w=576&ssl=1\" height='250px' width=\"400px\"/></div>\n",
    "<div class=\".col-xs-3 .col-md-5\"><img src=\"https://i2.wp.com/statisticsbyjim.com/wp-content/uploads/2018/02/histo_skewed_cont_values.png?w=576&ssl=1\" height='250px' width=\"400px\"/></div>\n",
    "</br>\n",
    "<p></p>\n",
    "<p>\n",
    "In a symmetric distribution, the mean and median both find the center accurately. They are approximately equal.</p>\n",
    "<p></p>\n",
    "<p>In a skewed distribution, the outliers in the tail pull the mean away from the center towards the longer tail. For this example, the mean and median differ by over 9000, and the median better represents the central tendency for the distribution.\n",
    "\n",
    "These data are based on the U.S. household income for 2006. Income is the classic example of when to use the median because it tends to be skewed. The median indicates that half of all incomes fall below 27581, and half are above it. For these data, the mean overestimates where most household incomes fall.</p>\n",
    "\n",
    "<p>You can use the mode when the data is Categorical data, Ordinal data, Count data, Probability Distributions</p>"
   ]
  },
  {
   "cell_type": "markdown",
   "metadata": {},
   "source": [
    "<h1>Measurements of Dispersion</h1>"
   ]
  },
  {
   "cell_type": "markdown",
   "metadata": {},
   "source": [
    "<p>The degree to which the individual values of the variety scatter away from the average or center location of center value, is called dispersion. There are two types of measure of dispersion, which are\n",
    "<p>(a) Absolute Measures of Dispersion</p>\n",
    "<p>(b) Relative Measures of Dispersion</p>\n",
    "</p>"
   ]
  },
  {
   "cell_type": "markdown",
   "metadata": {},
   "source": [
    "<h3>(a) Absolute Measures of Dispersion</h3>\n",
    "    \n",
    "<p>These measures give us an idea about the amount of dispersion in a set of observations. They give the answers in the same units as the units of the original observations. When the observations are in kilograms, the absolute measure is also in kilograms. If we have two sets of observations, we cannot always use the absolute measures to compare their dispersions. when the absolute measures can be used for comparison of dispersion in two or more sets of data. The absolute measures which are commonly used are:\n",
    "<p>1. Range</p>\n",
    "<p>2. Quartile Deviation</p>\n",
    "<p>3. Mean Deviation</p>\n",
    "<p>4. Standard Deviation and Variance</p>\n",
    " </p>"
   ]
  },
  {
   "cell_type": "markdown",
   "metadata": {},
   "source": [
    "<h3>Range</h3>\n",
    "<p>Range is defined as the difference between the maximum and the minimum observation of the given data. If <b>Xmax</b> denotes the maximum observation and <b>Xmin</b> denotes the minimum observation, then the range is defined as \n",
    "<b>Xmax-Xmin</b></p>\n",
    "\n",
    "<p>Range is based on two extreme observations. It is a poor measure of dispersion and does not give a good picture of the overall spread of the observations with respect to the center of the observations. Let us consider three groups of data which have the same range:\n",
    "<p>Example:\n",
    "<p>Group A: 30, 40, 40, 40, 40, 40, 50</p>\n",
    "<p>Group B: 30, 30, 30, 40, 50, 50, 50</p>\n",
    "<p>Group C: 30, 35, 40, 40, 40, 45, 50</p>\n",
    "</p>\n",
    "<p><b>Range= Xmax — Xmin</b></p>\n",
    "</p>\n",
    "In all the three groups the range is 50–30 = 20. In group A there is a concentration of observations in the center. In group B the observations are concentrated in the extreme corners, and in group C the observations are almost equally distributed in the interval from 30 to 50. The range fails to explain differences in the three groups of data. This defect in range cannot be removed even if we calculate the coefficient of the range, which is a relative measure of dispersion. If we calculate the range of a sample, we cannot draw any inferences about the range of the population.</p>"
   ]
  },
  {
   "cell_type": "markdown",
   "metadata": {},
   "source": [
    "<h3>Quartile Deviation</h3>\n",
    "<p>Quartile deviation is based on the lower quartile <b>Q1</b> and the upper quartile <b>Q3</b> The difference <b>Q3 -Q1</b> is called the inter quartile range. The difference <b>Q3 -Q1</b> divided by is called semi-inter-quartile range or the quartile deviation</p>\n",
    "\n",
    "quartile deviation = <b>Q3 -Q1/2</b>\n",
    "\n",
    "<img src=\"https://miro.medium.com/max/552/1*y6YyzvZIPBQ3b4Vmr0JFXQ.png\" height='250px' width=\"500px\"/>\n",
    "\n",
    "<p>The quartile deviation is a slightly better measure of absolute dispersion than the range, but it ignores the observations on the tails. If we take difference samples froma population and calculate their quartile deviations, their values are quite likely to be sufficiently different. This is called sampling fluctuation, and it is not a popular measure of dispersion. The quartile deviation calculated from the sample data does not help us to draw any conclusion (inference) about the quartile deviation in the population.</p>"
   ]
  },
  {
   "cell_type": "markdown",
   "metadata": {},
   "source": [
    "<h3>Mean Deviation</h3>\n",
    "\n",
    "<p>The mean deviation or the average deviation is defined as the mean of the absolute deviations of observations from some suitable average which may be the arithmetic mean, the median or the mode. The difference (x-average)\n",
    "is called deviation, and when we ignore the negative sign, this deviation is written as |x-average| and is read as mod deviations. The mean of these mod or absolute deviations is called the mean deviation or the mean absolute deviation. Thus for sample data in which the suitable average is the X the mean deviation M.D</p>\n",
    "<p></p>\n",
    "<p><center><b>Mean Deviation = Σ|x − μ|/N.</b></center></p>\n",
    "<p></p>\n",
    "<p>In simple words, <b>Average of absolute differences from the mean is known as mean deviation.</b>\n",
    "Don’t worry about the definition if you find it difficult. \n",
    "We will look at following steps which will help you to find mean deviation.\n",
    "<b>Steps:\n",
    "1. Calculate the mean for given data set.\n",
    "2. Find out the absolute difference of each data value from mean\n",
    "3. Add all the values you calculated in second step and divide by total number of data values</b></p>\n",
    "<p>The mean deviation is a better measure of the absolute dispersion than the range and the quartile deviation.</p>\n",
    "<p></p>\n",
    "<p>A drawback of the mean deviation is that we use the absolute |x-average| which does not seem logical. The reason for this is that the average deviation is always equal to zero. Even if we use median or mode in place of, the summation will be zero or approximately zero, with the result that the mean deviation will always be either zero or close to zero. Thus the very definition of the mean deviation is possible only for absolute deviations.\n",
    "The mean deviation is based on all the observations, a property which is not possessed by the range and the quartile deviation. The formula of the mean deviation gives a mathematical impression that is a better way of measuring the variations in the data. Any suitable average among the mean, median or mode can be used in its calculation, but the value of the mean deviation is the minimum if the deviations are taken from the median. A serious drawback of the mean deviation is that it cannot be used in statistical inference.</p>"
   ]
  },
  {
   "cell_type": "markdown",
   "metadata": {},
   "source": [
    "<h3>Standard Deviation and Variance</h3>\n",
    "\n"
   ]
  },
  {
   "attachments": {},
   "cell_type": "markdown",
   "metadata": {},
   "source": [
    "<p><b>Variance</b>: The Variance is the average of squared differences from the mean.</p>\n",
    "<p>We will look into simple steps to calculate variance as well.\n",
    "<ul>\n",
    "<li>1. Calculate the mean of data values</li>\n",
    "<li>2. Find out the absolute difference of each data value from mean</li>\n",
    "<li>3. Square each absolute difference you find</li>\n",
    "<li>4. Take the mean of all squared values from step 3.</li>\n",
    "</ul>\n",
    "<p>We will again look at the same data set we looked for mean deviation.</p>\n",
    "\n",
    "<p><b>Standard Deviation</b>:The Standard Deviation is the square root of variance.</p>\n",
    "    \n",
    "<img src=\"https://raw.githubusercontent.com/vijaypyml/DataScience_courses/master/Var%20and%20sd.PNG\" height='250px' width=\"500px\"/>\n",
    "</p>\n",
    "\n",
    "<p>The standard deviation plays a dominant role in the study of variations in data. It is a very widely used measure of dispersion. It stands like a tower among measures of dispersion. As far as important statistical tools are concerned, the most important tool is the mean and the second most important tool is the standard deviation . It is based on all the observations and is subject to mathematical treatment. It is of great importance for the analysis of data and for various statistical inferences.</p>\n",
    "<p></p>\n",
    "<div class=\"col-xs-9 col-md-7\"><img src=\"https://github.com/vijaypyml/DataScience_courses/blob/master/sd.png?raw=true\" height='200px' width=\"300px\"/></div>\n",
    "<div class=\".col-xs-3 .col-md-5\"><img src=\"https://github.com/vijaypyml/DataScience_courses/blob/master/sdvalue.png?raw=true\" height='250px' width=\"400px\"/></div>\n",
    "</br>\n",
    "<p></p>\n",
    "<p> If the value of standard deviation is low then the values are closer to center of location.</p>\n",
    "<p>If the value of standard deviation is large then the observations are vary greatly to the center of location.</p>"
   ]
  },
  {
   "cell_type": "markdown",
   "metadata": {},
   "source": [
    "<h3>(b) Relative Measures of Dispersion</h3>\n",
    "\n",
    "<p>Relative measures of dispersion are measures of the variance of a range of values regardless of its unit of measure. This means that the spread of two ranges of values with different measures can be compared directly with relative measures of dispersion.</p>\n",
    "\n",
    "<p></p>\n",
    "\n",
    "<p>here are four relative measures of dispersion:</p>\n",
    "\n",
    "<p><ul>\n",
    "<li>Coefficient of Range</li>\n",
    "<li>Coefficient of Quartile Deviation</li>\n",
    "<li>Coefficient of Mean deviation</li>\n",
    "<li>Coefficient of variation</li>\n",
    "</ul>\n",
    "You may notice that all the relative measures of dispersion are called coefficients. </p>"
   ]
  },
  {
   "cell_type": "markdown",
   "metadata": {},
   "source": [
    "<h3>Coefficient of Range</h3>\n",
    "\n",
    "<p>The formula for the coefficient of range would be read as the largest value minus smallest value divided by largest value plus smallest value</p>\n",
    "</br>\n",
    "<img src=\"https://github.com/vijaypyml/DataScience_courses/blob/master/cor.jpeg?raw=true\" height='250px' width=\"500px\"/>\n",
    "<p>Let us take two sets of observations. Set A contains the marks of five students in mathematics out of 25 marks and group B contains marks of the same students in English out of 100 marks.\n",
    "<p>Set A: 10, 15, 18, 20, 20</p>\n",
    "<p>Set B: 30, 35, 40, 45, 50</p>\n",
    "The values of the ranges and coefficients of range are calculated as:</p>\n",
    "<img src=\"https://github.com/vijaypyml/DataScience_courses/blob/master/corTab.jpeg?raw=true\" height='250px' width=\"500px\"/>\n",
    "<p>In set A the range is 10 and in set B the range is 20. Apparently it seems there is greater dispersion in set B, but this is not true. The range of 20 in set B is for more observations and the range of 10 in set A is for fewer observations. Thus 20 and 10 cannot be compared directly. Their base is not the same. The marks in mathematics are out of 25 and the marks of English are out of 100. Thus, it makes no sense to compare 10 with 20. When we convert these two values into coefficients of range, we see that the coefficient of range for set A is greater than that of set B. Thus there is greater dispersion or variation in set A. The marks of students in English are more stable than their marks in mathematics.</p>"
   ]
  },
  {
   "cell_type": "markdown",
   "metadata": {},
   "source": [
    "<h3>Coefficient of Quartile Deviation</h3>\n",
    "\n",
    "A relative measure of dispersion based on the quartile deviation is called the coefficient of quartile deviation</p>\n",
    "<img src=\"https://github.com/vijaypyml/DataScience_courses/blob/master/coqd.jpeg?raw=true\" height='250px' width=\"500px\"/>\n",
    "<p>It is a pure number free of any units of measurement. It can be used for comparing the dispersion of two or more sets of data.</p>\n"
   ]
  },
  {
   "cell_type": "markdown",
   "metadata": {},
   "source": [
    "<h3>Coefficient of Mean Deviation</h3>\n",
    "<p>A relative measure of dispersion based on the mean deviation is called the coefficient of the mean deviation or the coefficient of dispersion. It is defined as the ratio of the mean deviation of the average used in the calculation of the mean deviation. Thus:</p>\n",
    "<img src=\"https://github.com/vijaypyml/DataScience_courses/blob/master/comd.jpeg?raw=true\" height='250px' width=\"500px\"/>\n",
    "<p></p>"
   ]
  },
  {
   "cell_type": "markdown",
   "metadata": {},
   "source": [
    "<h3>Coefficient of Standard Deviation</h3>\n",
    "<p>The standard deviation is the absolute measure of dispersion. Its relative measure is called the standard coefficient of dispersion or coefficient of standard deviation. </p>\n",
    "<img src=\"https://github.com/vijaypyml/DataScience_courses/blob/master/cosd.jpeg?raw=true\" height='250px' width=\"500px\"/>\n",
    "<p></p>"
   ]
  },
  {
   "cell_type": "markdown",
   "metadata": {},
   "source": [
    "<h3>Coefficient of Variation</h3>\n",
    "<p>The type of the relative measures of dispersion that corresponds to standard deviation is the “Coefficient of Variation.” It is usually expressed in percentage terms and is the most commonly used of the relative measures of dispersion. Since relative measures of dispersion are free from the units in which the values have been expressed, they can be compared even across different groups having different units of measurement.</p>\n",
    "<img src=\"https://github.com/vijaypyml/DataScience_courses/blob/master/cov.jpeg?raw=true\" height='250px' width=\"500px\"/>\n",
    "<p></p>\n",
    "<h4>Inferences based on coefficient of variance</h4>\n",
    "<p> If we want to compare the variability of two or more groups or series of data, we can use the coefficient of variation. The series or groups of data, for which the coefficient of variation is greater, indicating that the group is more variable, less stable, less uniform, less consistent or less homogeneous. If the coefficient of variation is lower, it indicates that the group is less variable, more stable, more uniform, more consistent or more homogeneous</p>\n",
    "\n",
    "\n",
    "<p>Please have a look at an illustration in the figures below. The example is about two factories: Factory A and Factory B that employs 476 and 524 workers respectively. The average weekly wages for each worker in Factory A and Factory B are USD 34.5 and USD 28.5 respectively. The standard deviation in paying the individual wages has been recorded as USD 5 and USD 4.5 for Factory A and Factory B respectively.</p>\n",
    "\n",
    "<p>There are two questions here that we need to solve:</p>\n",
    "\n",
    "<p>1.Which factory A or B pays out a larger amount as average weekly wages?<p>\n",
    "<p>2.Which factory A or B has greater variability in paying individual wages?</p>\n",
    "\n",
    "<p></p>\n",
    "<img src=\"https://github.com/vijaypyml/DataScience_courses/blob/master/cov1.PNG?raw=true\" height='250px' width=\"500px\"/>\n",
    "<p></p>\n",
    "<p>It is now quite clear that Factory A pays a larger amount of weekly wages than Factory B.</p>\n",
    "<p></p>\n",
    "<img src=\"https://github.com/vijaypyml/DataScience_courses/blob/master/cov2.PNG?raw=true\" height='250px' width=\"500px\"/>\n",
    "<p></p>\n",
    "<p><b>Inferences from the data:</b>\n",
    "In Factory B, it can be estimated that a small chunk of workers takes away larger portions of wages because of internal irregularities or policies of the company or other reasons. The chances are that not every worker in Factory B earns the average amount of wages. However, this may not be the case with Factory A. That was the last of the relative measures of dispersion.\n",
    "\n",
    "This simple example shows how <b>relative measures of dispersion such as coefficient of variation can be used to draw inferences about sets of data, even if the data was measured in different units</b></p>"
   ]
  },
  {
   "cell_type": "markdown",
   "metadata": {},
   "source": [
    "<h1>Descriptive Statistics - Using Python</h1>\n",
    "<p>When we have a set of observations, it is useful to summarize features of our data into a single statement called a descriptive statistic. As their name suggests, descriptive statistics describe a particular quality of the data they summarize. These statistics fall into two general categories: the measures of central tendency and the measures of spread.</p>"
   ]
  },
  {
   "cell_type": "code",
   "execution_count": null,
   "metadata": {},
   "outputs": [],
   "source": []
  },
  {
   "cell_type": "code",
   "execution_count": 4,
   "metadata": {},
   "outputs": [],
   "source": [
    "import pandas as pd\n",
    "import numpy as np\n",
    "import matplotlib as mp"
   ]
  },
  {
   "cell_type": "code",
   "execution_count": 1,
   "metadata": {},
   "outputs": [
    {
     "name": "stdout",
     "output_type": "stream",
     "text": [
      "Download ready.\n"
     ]
    }
   ],
   "source": [
    "#download the data sets by using Python and save it in the current directory\n",
    "import requests\n",
    "\n",
    "download_url = \"https://raw.githubusercontent.com/vijaypyml/DataSets/master/apy.csv\"\n",
    "target_csv_path = \"apy.csv\"\n",
    "\n",
    "response = requests.get(download_url)\n",
    "response.raise_for_status()    # Check that the request was successful\n",
    "with open(target_csv_path, \"wb\") as f:\n",
    "    f.write(response.content)\n",
    "print(\"Download ready.\")"
   ]
  },
  {
   "cell_type": "code",
   "execution_count": 5,
   "metadata": {},
   "outputs": [],
   "source": [
    "df=pd.read_csv(\"apy.csv\",encoding = \"ISO-8859-1\")"
   ]
  },
  {
   "cell_type": "code",
   "execution_count": 6,
   "metadata": {},
   "outputs": [
    {
     "data": {
      "text/html": [
       "<div>\n",
       "<style scoped>\n",
       "    .dataframe tbody tr th:only-of-type {\n",
       "        vertical-align: middle;\n",
       "    }\n",
       "\n",
       "    .dataframe tbody tr th {\n",
       "        vertical-align: top;\n",
       "    }\n",
       "\n",
       "    .dataframe thead th {\n",
       "        text-align: right;\n",
       "    }\n",
       "</style>\n",
       "<table border=\"1\" class=\"dataframe\">\n",
       "  <thead>\n",
       "    <tr style=\"text-align: right;\">\n",
       "      <th></th>\n",
       "      <th>State_Name</th>\n",
       "      <th>District_Name</th>\n",
       "      <th>Crop_Year</th>\n",
       "      <th>Season</th>\n",
       "      <th>Crop</th>\n",
       "      <th>Area</th>\n",
       "      <th>Production</th>\n",
       "    </tr>\n",
       "  </thead>\n",
       "  <tbody>\n",
       "    <tr>\n",
       "      <th>0</th>\n",
       "      <td>Andaman and Nicobar Islands</td>\n",
       "      <td>NICOBARS</td>\n",
       "      <td>2000</td>\n",
       "      <td>Kharif</td>\n",
       "      <td>Arecanut</td>\n",
       "      <td>1254.0</td>\n",
       "      <td>2000</td>\n",
       "    </tr>\n",
       "    <tr>\n",
       "      <th>1</th>\n",
       "      <td>Andaman and Nicobar Islands</td>\n",
       "      <td>NICOBARS</td>\n",
       "      <td>2000</td>\n",
       "      <td>Kharif</td>\n",
       "      <td>Other Kharif pulses</td>\n",
       "      <td>2.0</td>\n",
       "      <td>1</td>\n",
       "    </tr>\n",
       "    <tr>\n",
       "      <th>2</th>\n",
       "      <td>Andaman and Nicobar Islands</td>\n",
       "      <td>NICOBARS</td>\n",
       "      <td>2000</td>\n",
       "      <td>Kharif</td>\n",
       "      <td>Rice</td>\n",
       "      <td>102.0</td>\n",
       "      <td>321</td>\n",
       "    </tr>\n",
       "    <tr>\n",
       "      <th>3</th>\n",
       "      <td>Andaman and Nicobar Islands</td>\n",
       "      <td>NICOBARS</td>\n",
       "      <td>2000</td>\n",
       "      <td>Whole Year</td>\n",
       "      <td>Banana</td>\n",
       "      <td>176.0</td>\n",
       "      <td>641</td>\n",
       "    </tr>\n",
       "    <tr>\n",
       "      <th>4</th>\n",
       "      <td>Andaman and Nicobar Islands</td>\n",
       "      <td>NICOBARS</td>\n",
       "      <td>2000</td>\n",
       "      <td>Whole Year</td>\n",
       "      <td>Cashewnut</td>\n",
       "      <td>720.0</td>\n",
       "      <td>165</td>\n",
       "    </tr>\n",
       "  </tbody>\n",
       "</table>\n",
       "</div>"
      ],
      "text/plain": [
       "                    State_Name District_Name  Crop_Year       Season  \\\n",
       "0  Andaman and Nicobar Islands      NICOBARS       2000  Kharif        \n",
       "1  Andaman and Nicobar Islands      NICOBARS       2000  Kharif        \n",
       "2  Andaman and Nicobar Islands      NICOBARS       2000  Kharif        \n",
       "3  Andaman and Nicobar Islands      NICOBARS       2000  Whole Year    \n",
       "4  Andaman and Nicobar Islands      NICOBARS       2000  Whole Year    \n",
       "\n",
       "                  Crop    Area Production  \n",
       "0             Arecanut  1254.0       2000  \n",
       "1  Other Kharif pulses     2.0          1  \n",
       "2                 Rice   102.0        321  \n",
       "3               Banana   176.0        641  \n",
       "4            Cashewnut   720.0        165  "
      ]
     },
     "execution_count": 6,
     "metadata": {},
     "output_type": "execute_result"
    }
   ],
   "source": [
    "df.head()"
   ]
  },
  {
   "cell_type": "code",
   "execution_count": 7,
   "metadata": {},
   "outputs": [
    {
     "name": "stdout",
     "output_type": "stream",
     "text": [
      "<class 'pandas.core.frame.DataFrame'>\n",
      "RangeIndex: 246091 entries, 0 to 246090\n",
      "Data columns (total 7 columns):\n",
      " #   Column         Non-Null Count   Dtype  \n",
      "---  ------         --------------   -----  \n",
      " 0   State_Name     246091 non-null  object \n",
      " 1   District_Name  246091 non-null  object \n",
      " 2   Crop_Year      246091 non-null  int64  \n",
      " 3   Season         246091 non-null  object \n",
      " 4   Crop           246091 non-null  object \n",
      " 5   Area           246091 non-null  float64\n",
      " 6   Production     246091 non-null  object \n",
      "dtypes: float64(1), int64(1), object(5)\n",
      "memory usage: 13.1+ MB\n"
     ]
    }
   ],
   "source": [
    "df.info()"
   ]
  },
  {
   "cell_type": "code",
   "execution_count": 8,
   "metadata": {},
   "outputs": [],
   "source": [
    "df['Production']=pd.to_numeric(df['Production'],errors='coerce')"
   ]
  },
  {
   "cell_type": "code",
   "execution_count": 9,
   "metadata": {},
   "outputs": [
    {
     "name": "stdout",
     "output_type": "stream",
     "text": [
      "<class 'pandas.core.frame.DataFrame'>\n",
      "RangeIndex: 246091 entries, 0 to 246090\n",
      "Data columns (total 7 columns):\n",
      " #   Column         Non-Null Count   Dtype  \n",
      "---  ------         --------------   -----  \n",
      " 0   State_Name     246091 non-null  object \n",
      " 1   District_Name  246091 non-null  object \n",
      " 2   Crop_Year      246091 non-null  int64  \n",
      " 3   Season         246091 non-null  object \n",
      " 4   Crop           246091 non-null  object \n",
      " 5   Area           246091 non-null  float64\n",
      " 6   Production     242364 non-null  float64\n",
      "dtypes: float64(2), int64(1), object(4)\n",
      "memory usage: 13.1+ MB\n"
     ]
    }
   ],
   "source": [
    "df.info()"
   ]
  },
  {
   "cell_type": "code",
   "execution_count": null,
   "metadata": {},
   "outputs": [],
   "source": [
    "df.mean(axis = 0)"
   ]
  },
  {
   "cell_type": "code",
   "execution_count": null,
   "metadata": {},
   "outputs": [],
   "source": []
  }
 ],
 "metadata": {
  "kernelspec": {
   "display_name": "Python 3",
   "language": "python",
   "name": "python3"
  }
 },
 "nbformat": 4,
 "nbformat_minor": 4
}
